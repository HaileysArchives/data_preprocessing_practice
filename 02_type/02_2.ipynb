{
 "cells": [
  {
   "cell_type": "code",
   "execution_count": 1,
   "id": "73aa2d82-5ca0-4067-872d-0b8cf800cbcf",
   "metadata": {},
   "outputs": [],
   "source": [
    "import pandas as pd\n",
    "import numpy as np\n",
    "import seaborn as sns\n",
    "import matplotlib.pyplot as plt\n",
    "\n",
    "from collections import Counter\n",
    "\n",
    "import datetime"
   ]
  },
  {
   "cell_type": "markdown",
   "id": "96e8f322-ee22-4228-b7ca-e119b13a42b5",
   "metadata": {},
   "source": [
    "#### **주어진 학습용 데이터(used_car_y_train.csv, used_car_x_train.csv)를 이용하여 중고차의 판매 가격을 예측하고, 이를 평가용 데이터(used_car_x_test.csv)에 적용하여 얻은 예측 결과를 다음과 같은 형식의 csv 파일로 생성하시오.** "
   ]
  },
  {
   "cell_type": "code",
   "execution_count": 4,
   "id": "3bfc82bd-6c2c-4612-8b9b-89702e8ff803",
   "metadata": {},
   "outputs": [
    {
     "name": "stdout",
     "output_type": "stream",
     "text": [
      "   id model  year transmission  mileage fuelType  tax   mpg  engineSize\n",
      "0   1    A1  2019    Automatic     3500   Petrol  145  40.9         2.0\n",
      "1   2   RS4  2020    Semi-Auto     2500   Petrol  145  28.8         2.9\n",
      "2   3    A8  2019    Semi-Auto      500   Diesel  145  40.4         3.0\n",
      "3   4    Q5  2019    Semi-Auto     5089   Diesel  150  38.2         2.0\n",
      "4   5    A5  2020    Semi-Auto     4951   Diesel  145  51.4         2.0\n"
     ]
    }
   ],
   "source": [
    "x_test = pd.read_csv('https://raw.githubusercontent.com/YoungjinBD/dataset/main/used_car_X_test.csv')\n",
    "x_train = pd.read_csv('https://raw.githubusercontent.com/YoungjinBD/dataset/main/used_car_X_train.csv')\n",
    "y_train = pd.read_csv('https://raw.githubusercontent.com/YoungjinBD/dataset/main/used_car_y_train.csv')\n",
    "\n",
    "print(x_train.head())"
   ]
  },
  {
   "cell_type": "code",
   "execution_count": 6,
   "id": "654264d5-d556-4740-bed3-634827a3cba2",
   "metadata": {},
   "outputs": [
    {
     "name": "stdout",
     "output_type": "stream",
     "text": [
      "0\n",
      "0\n",
      "0\n"
     ]
    }
   ],
   "source": [
    "# 결측치 확인 \n",
    "print(x_test.isnull().sum().sum())\n",
    "print(x_train.isnull().sum().sum())\n",
    "print(y_train.isnull().sum().sum())"
   ]
  },
  {
   "cell_type": "code",
   "execution_count": 11,
   "id": "a5189fbd-bb3e-400d-9747-f9a103053df2",
   "metadata": {},
   "outputs": [
    {
     "data": {
      "text/html": [
       "<div>\n",
       "<style scoped>\n",
       "    .dataframe tbody tr th:only-of-type {\n",
       "        vertical-align: middle;\n",
       "    }\n",
       "\n",
       "    .dataframe tbody tr th {\n",
       "        vertical-align: top;\n",
       "    }\n",
       "\n",
       "    .dataframe thead th {\n",
       "        text-align: right;\n",
       "    }\n",
       "</style>\n",
       "<table border=\"1\" class=\"dataframe\">\n",
       "  <thead>\n",
       "    <tr style=\"text-align: right;\">\n",
       "      <th></th>\n",
       "      <th>id</th>\n",
       "      <th>model</th>\n",
       "      <th>year</th>\n",
       "      <th>transmission</th>\n",
       "      <th>mileage</th>\n",
       "      <th>fuelType</th>\n",
       "      <th>tax</th>\n",
       "      <th>mpg</th>\n",
       "      <th>engineSize</th>\n",
       "    </tr>\n",
       "  </thead>\n",
       "  <tbody>\n",
       "    <tr>\n",
       "      <th>0</th>\n",
       "      <td>1</td>\n",
       "      <td>A1</td>\n",
       "      <td>2019</td>\n",
       "      <td>Automatic</td>\n",
       "      <td>3500</td>\n",
       "      <td>Petrol</td>\n",
       "      <td>145</td>\n",
       "      <td>40.9</td>\n",
       "      <td>2.0</td>\n",
       "    </tr>\n",
       "    <tr>\n",
       "      <th>1</th>\n",
       "      <td>2</td>\n",
       "      <td>RS4</td>\n",
       "      <td>2020</td>\n",
       "      <td>Semi-Auto</td>\n",
       "      <td>2500</td>\n",
       "      <td>Petrol</td>\n",
       "      <td>145</td>\n",
       "      <td>28.8</td>\n",
       "      <td>2.9</td>\n",
       "    </tr>\n",
       "    <tr>\n",
       "      <th>2</th>\n",
       "      <td>3</td>\n",
       "      <td>A8</td>\n",
       "      <td>2019</td>\n",
       "      <td>Semi-Auto</td>\n",
       "      <td>500</td>\n",
       "      <td>Diesel</td>\n",
       "      <td>145</td>\n",
       "      <td>40.4</td>\n",
       "      <td>3.0</td>\n",
       "    </tr>\n",
       "    <tr>\n",
       "      <th>3</th>\n",
       "      <td>4</td>\n",
       "      <td>Q5</td>\n",
       "      <td>2019</td>\n",
       "      <td>Semi-Auto</td>\n",
       "      <td>5089</td>\n",
       "      <td>Diesel</td>\n",
       "      <td>150</td>\n",
       "      <td>38.2</td>\n",
       "      <td>2.0</td>\n",
       "    </tr>\n",
       "    <tr>\n",
       "      <th>4</th>\n",
       "      <td>5</td>\n",
       "      <td>A5</td>\n",
       "      <td>2020</td>\n",
       "      <td>Semi-Auto</td>\n",
       "      <td>4951</td>\n",
       "      <td>Diesel</td>\n",
       "      <td>145</td>\n",
       "      <td>51.4</td>\n",
       "      <td>2.0</td>\n",
       "    </tr>\n",
       "  </tbody>\n",
       "</table>\n",
       "</div>"
      ],
      "text/plain": [
       "   id model  year transmission  mileage fuelType  tax   mpg  engineSize\n",
       "0   1    A1  2019    Automatic     3500   Petrol  145  40.9         2.0\n",
       "1   2   RS4  2020    Semi-Auto     2500   Petrol  145  28.8         2.9\n",
       "2   3    A8  2019    Semi-Auto      500   Diesel  145  40.4         3.0\n",
       "3   4    Q5  2019    Semi-Auto     5089   Diesel  150  38.2         2.0\n",
       "4   5    A5  2020    Semi-Auto     4951   Diesel  145  51.4         2.0"
      ]
     },
     "execution_count": 11,
     "metadata": {},
     "output_type": "execute_result"
    }
   ],
   "source": [
    "x_train.head()"
   ]
  },
  {
   "cell_type": "code",
   "execution_count": 16,
   "id": "2f38bc4f-c834-4e11-9bfe-efd7f81359ea",
   "metadata": {},
   "outputs": [
    {
     "data": {
      "text/html": [
       "<div>\n",
       "<style scoped>\n",
       "    .dataframe tbody tr th:only-of-type {\n",
       "        vertical-align: middle;\n",
       "    }\n",
       "\n",
       "    .dataframe tbody tr th {\n",
       "        vertical-align: top;\n",
       "    }\n",
       "\n",
       "    .dataframe thead th {\n",
       "        text-align: right;\n",
       "    }\n",
       "</style>\n",
       "<table border=\"1\" class=\"dataframe\">\n",
       "  <thead>\n",
       "    <tr style=\"text-align: right;\">\n",
       "      <th></th>\n",
       "      <th>id</th>\n",
       "      <th>year</th>\n",
       "      <th>mileage</th>\n",
       "      <th>tax</th>\n",
       "      <th>mpg</th>\n",
       "      <th>engineSize</th>\n",
       "    </tr>\n",
       "  </thead>\n",
       "  <tbody>\n",
       "    <tr>\n",
       "      <th>0</th>\n",
       "      <td>7469</td>\n",
       "      <td>2020</td>\n",
       "      <td>4000</td>\n",
       "      <td>145</td>\n",
       "      <td>54.3</td>\n",
       "      <td>3.0</td>\n",
       "    </tr>\n",
       "    <tr>\n",
       "      <th>1</th>\n",
       "      <td>7470</td>\n",
       "      <td>2016</td>\n",
       "      <td>31300</td>\n",
       "      <td>30</td>\n",
       "      <td>61.4</td>\n",
       "      <td>2.0</td>\n",
       "    </tr>\n",
       "    <tr>\n",
       "      <th>2</th>\n",
       "      <td>7471</td>\n",
       "      <td>2019</td>\n",
       "      <td>11296</td>\n",
       "      <td>150</td>\n",
       "      <td>38.2</td>\n",
       "      <td>2.0</td>\n",
       "    </tr>\n",
       "    <tr>\n",
       "      <th>3</th>\n",
       "      <td>7472</td>\n",
       "      <td>2018</td>\n",
       "      <td>6500</td>\n",
       "      <td>145</td>\n",
       "      <td>55.4</td>\n",
       "      <td>1.4</td>\n",
       "    </tr>\n",
       "    <tr>\n",
       "      <th>4</th>\n",
       "      <td>7473</td>\n",
       "      <td>2016</td>\n",
       "      <td>31524</td>\n",
       "      <td>30</td>\n",
       "      <td>60.1</td>\n",
       "      <td>1.4</td>\n",
       "    </tr>\n",
       "  </tbody>\n",
       "</table>\n",
       "</div>"
      ],
      "text/plain": [
       "     id  year  mileage  tax   mpg  engineSize\n",
       "0  7469  2020     4000  145  54.3         3.0\n",
       "1  7470  2016    31300   30  61.4         2.0\n",
       "2  7471  2019    11296  150  38.2         2.0\n",
       "3  7472  2018     6500  145  55.4         1.4\n",
       "4  7473  2016    31524   30  60.1         1.4"
      ]
     },
     "execution_count": 16,
     "metadata": {},
     "output_type": "execute_result"
    }
   ],
   "source": [
    "# 데이터 나누기\n",
    "# 범주형 데이터\n",
    "x_train_word = x_train[['model', 'transmission', 'fuelType']]\n",
    "x_test_word = x_test[['model', 'transmission', 'fuelType']]\n",
    "\n",
    "# 수치형 데이터\n",
    "x_train_num = x_train.drop(columns = ['model', 'transmission', 'fuelType'])\n",
    "x_test_num = x_test.drop(columns = ['model', 'transmission', 'fuelType'])\n",
    "\n",
    "x_test_num.head()"
   ]
  },
  {
   "cell_type": "markdown",
   "id": "1ecc16a2-f8cb-419a-989f-0d364bde2d22",
   "metadata": {},
   "source": [
    "# **from sklearn.preprocessing import MinMaxScaler**\n",
    "### **.fit_transform()**\n",
    "\n",
    "#### **MinMaxScaler: 데이터 정규화 방법 중 하나로, 데이터의 값을 0과 1사이의 범위로 변환**\n",
    "#### **데이터의 최소값과 최대값을 기준으로 계산**"
   ]
  },
  {
   "cell_type": "code",
   "execution_count": 21,
   "id": "736d4741-4706-4ca0-975b-ed8f77782fca",
   "metadata": {},
   "outputs": [],
   "source": [
    "# 데이터 스케일링\n",
    "from sklearn.preprocessing import MinMaxScaler\n",
    "\n",
    "scaler = MinMaxScaler()\n",
    "\n",
    "x_train_num_scale = scaler.fit_transform(x_train_num)\n",
    "x_test_num_scale = scaler.fit_transform(x_test_num)\n",
    " \n",
    "# 데이터 프레임 설정 (array 형태임)\n",
    "df_train_num = pd.DataFrame(x_train_num_scale, columns=x_train_num.columns)\n",
    "df_test_num = pd.DataFrame(x_test_num_scale, columns=x_test_num.columns)\n",
    "\n",
    "# 원핫 인코딩\n",
    "# 범주형 데이터를 이진 벡터로 변환\n",
    "df_train_word = pd.get_dummies(x_train_word)\n",
    "df_test_word =pd.get_dummies(x_test_word)"
   ]
  },
  {
   "cell_type": "markdown",
   "id": "422b87aa-8061-4689-af7f-e5786d230814",
   "metadata": {},
   "source": [
    "### **set(): 자동으로 중복된 요소 제거, 집합 자료형 생성**"
   ]
  },
  {
   "cell_type": "code",
   "execution_count": 26,
   "id": "48a9f6ff-3073-48c3-a6f6-1e3ac3f9d7ce",
   "metadata": {},
   "outputs": [
    {
     "name": "stdout",
     "output_type": "stream",
     "text": [
      "missing_in_test:  {'model_ S8'}\n",
      "missing_in_train:  {'model_S8'}\n",
      "\n",
      "            id      year   mileage       tax       mpg  engineSize  model_ A1  \\\n",
      "0     0.000000  0.954545  0.020825  0.250000  0.127811    0.317460       True   \n",
      "1     0.000134  1.000000  0.014874  0.250000  0.056213    0.460317      False   \n",
      "2     0.000268  0.954545  0.002970  0.250000  0.124852    0.476190      False   \n",
      "3     0.000402  0.954545  0.030283  0.258621  0.111834    0.317460      False   \n",
      "4     0.000536  1.000000  0.029461  0.250000  0.189941    0.317460      False   \n",
      "...        ...       ...       ...       ...       ...         ...        ...   \n",
      "7463  0.999464  0.818182  0.134701  0.051724  0.234320    0.222222      False   \n",
      "7464  0.999598  0.863636  0.078987  0.250000  0.265680    0.253968      False   \n",
      "7465  0.999732  0.954545  0.029753  0.250000  0.127811    0.317460       True   \n",
      "7466  0.999866  0.954545  0.000054  0.250000  0.139053    0.317460      False   \n",
      "7467  1.000000  0.636364  0.542972  0.517241  0.117751    0.476190      False   \n",
      "\n",
      "      model_ A2  model_ A3  model_ A4  ...  model_ S8  model_ SQ5  model_ SQ7  \\\n",
      "0         False      False      False  ...      False       False       False   \n",
      "1         False      False      False  ...      False       False       False   \n",
      "2         False      False      False  ...      False       False       False   \n",
      "3         False      False      False  ...      False       False       False   \n",
      "4         False      False      False  ...      False       False       False   \n",
      "...         ...        ...        ...  ...        ...         ...         ...   \n",
      "7463      False       True      False  ...      False       False       False   \n",
      "7464      False      False      False  ...      False       False       False   \n",
      "7465      False      False      False  ...      False       False       False   \n",
      "7466      False      False      False  ...      False       False       False   \n",
      "7467      False      False      False  ...      False       False       False   \n",
      "\n",
      "      model_ TT  transmission_Automatic  transmission_Manual  \\\n",
      "0         False                    True                False   \n",
      "1         False                   False                False   \n",
      "2         False                   False                False   \n",
      "3         False                   False                False   \n",
      "4         False                   False                False   \n",
      "...         ...                     ...                  ...   \n",
      "7463      False                   False                 True   \n",
      "7464      False                   False                 True   \n",
      "7465      False                   False                False   \n",
      "7466      False                   False                 True   \n",
      "7467      False                    True                False   \n",
      "\n",
      "      transmission_Semi-Auto  fuelType_Diesel  fuelType_Hybrid  \\\n",
      "0                      False            False            False   \n",
      "1                       True            False            False   \n",
      "2                       True             True            False   \n",
      "3                       True             True            False   \n",
      "4                       True             True            False   \n",
      "...                      ...              ...              ...   \n",
      "7463                   False            False            False   \n",
      "7464                   False             True            False   \n",
      "7465                    True            False            False   \n",
      "7466                   False             True            False   \n",
      "7467                   False             True            False   \n",
      "\n",
      "      fuelType_Petrol  \n",
      "0                True  \n",
      "1                True  \n",
      "2               False  \n",
      "3               False  \n",
      "4               False  \n",
      "...               ...  \n",
      "7463             True  \n",
      "7464            False  \n",
      "7465             True  \n",
      "7466            False  \n",
      "7467            False  \n",
      "\n",
      "[7468 rows x 38 columns]\n"
     ]
    }
   ],
   "source": [
    "# 훈련 데이터프레임 컬럼 목록\n",
    "train_columns = set(df_train_word.columns)\n",
    "\n",
    "# 테스트 데이터프레임 컬럼 목록\n",
    "test_columns = set(df_test_word.columns)\n",
    "\n",
    "# 훈련 데이터에는 있지만 테스트 데이터에는 없는 컬럼 확인\n",
    "missing_in_test = train_columns - test_columns\n",
    "print(\"missing_in_test: \", missing_in_test)\n",
    "\n",
    "# 테스트 데이터에는 있지만 훈련 데이터에는 없는 컬럼 확인\n",
    "missing_in_train = test_columns - train_columns\n",
    "print(\"missing_in_train: \", missing_in_train)\n",
    "\n",
    "# 컬럼 목록 중 없는 컬럼의 값을 0으로 해서 채워줌\n",
    "df_test_word['model_S8'] = 0\n",
    "df_test_word['model_ RS7'] = 0\n",
    "df_test_word['model_ A2'] = 0\n",
    "df_test_word['model_ S5'] = 0\n",
    "\n",
    "# 데이터 결합 (이진형 데이터 + 범주형 데이터의 결합)\n",
    "# merge(df1, df2, on='key', how='outer'): 공통 열(키) 또는 인덱스를 기준으로 데이터 병합\n",
    "# concat([df1, df2], axis=1): 축(axis)을 따라 연결\n",
    "df_train = pd.concat([df_train_num, df_train_word], axis=1)\n",
    "df_test = pd.concat([df_test_num, df_test_word], axis=1)\n",
    "print()\n",
    "print(df_train)"
   ]
  },
  {
   "cell_type": "code",
   "execution_count": 27,
   "id": "405c6f7c-c020-4b6b-aff6-59fa50187ca2",
   "metadata": {},
   "outputs": [
    {
     "data": {
      "text/html": [
       "<div>\n",
       "<style scoped>\n",
       "    .dataframe tbody tr th:only-of-type {\n",
       "        vertical-align: middle;\n",
       "    }\n",
       "\n",
       "    .dataframe tbody tr th {\n",
       "        vertical-align: top;\n",
       "    }\n",
       "\n",
       "    .dataframe thead th {\n",
       "        text-align: right;\n",
       "    }\n",
       "</style>\n",
       "<table border=\"1\" class=\"dataframe\">\n",
       "  <thead>\n",
       "    <tr style=\"text-align: right;\">\n",
       "      <th></th>\n",
       "      <th>id</th>\n",
       "      <th>price</th>\n",
       "    </tr>\n",
       "  </thead>\n",
       "  <tbody>\n",
       "    <tr>\n",
       "      <th>0</th>\n",
       "      <td>1</td>\n",
       "      <td>21350</td>\n",
       "    </tr>\n",
       "    <tr>\n",
       "      <th>1</th>\n",
       "      <td>2</td>\n",
       "      <td>69691</td>\n",
       "    </tr>\n",
       "    <tr>\n",
       "      <th>2</th>\n",
       "      <td>3</td>\n",
       "      <td>42950</td>\n",
       "    </tr>\n",
       "    <tr>\n",
       "      <th>3</th>\n",
       "      <td>4</td>\n",
       "      <td>31470</td>\n",
       "    </tr>\n",
       "    <tr>\n",
       "      <th>4</th>\n",
       "      <td>5</td>\n",
       "      <td>27495</td>\n",
       "    </tr>\n",
       "  </tbody>\n",
       "</table>\n",
       "</div>"
      ],
      "text/plain": [
       "   id  price\n",
       "0   1  21350\n",
       "1   2  69691\n",
       "2   3  42950\n",
       "3   4  31470\n",
       "4   5  27495"
      ]
     },
     "execution_count": 27,
     "metadata": {},
     "output_type": "execute_result"
    }
   ],
   "source": [
    "y_train.head()"
   ]
  },
  {
   "cell_type": "markdown",
   "id": "d16f9149-2f83-423d-adcd-4c57c9410ae7",
   "metadata": {},
   "source": [
    "# **from pandas.core.common import random_state**\n",
    "## **import xgboost as xgb**\n",
    "## **from sklearn.metrics import mean_squared_error**"
   ]
  },
  {
   "cell_type": "code",
   "execution_count": 33,
   "id": "f93461df-4b8a-4e4a-88a6-ae5819b4d4df",
   "metadata": {},
   "outputs": [
    {
     "name": "stdout",
     "output_type": "stream",
     "text": [
      "Requirement already satisfied: xgboost in c:\\users\\carly\\anaconda3\\lib\\site-packages (2.1.3)\n",
      "Requirement already satisfied: numpy in c:\\users\\carly\\anaconda3\\lib\\site-packages (from xgboost) (1.26.4)\n",
      "Requirement already satisfied: scipy in c:\\users\\carly\\anaconda3\\lib\\site-packages (from xgboost) (1.11.4)\n",
      "Note: you may need to restart the kernel to use updated packages.\n"
     ]
    }
   ],
   "source": [
    "pip install xgboost"
   ]
  },
  {
   "cell_type": "code",
   "execution_count": 35,
   "id": "4f6d1872-8959-4e35-95f3-15b350e5c114",
   "metadata": {},
   "outputs": [
    {
     "name": "stdout",
     "output_type": "stream",
     "text": [
      "2356.7913501314856\n"
     ]
    }
   ],
   "source": [
    "# 모델 학습\n",
    "from pandas.core.common import random_state\n",
    "import xgboost as xgb\n",
    "from sklearn.model_selection import train_test_split\n",
    "from sklearn.metrics import mean_squared_error\n",
    "import numpy as np\n",
    "\n",
    "# 모델 생성\n",
    "model = xgb.XGBRegressor(random_state=77)\n",
    "\n",
    "# train , validation 데이터 설정\n",
    "X_train, X_val, y_train_t, y_val = train_test_split(df_train.values, \n",
    "                                                    y_train['price'].values, \n",
    "                                                    test_size=0.3)\n",
    "\n",
    "# 모델 학습\n",
    "model.fit(X_train, y_train_t)\n",
    "\n",
    "# vaidation 데이터로 성능 평가\n",
    "y_pred = model.predict(X_val)\n",
    "print(np.sqrt(mean_squared_error(y_val, y_pred)))"
   ]
  },
  {
   "cell_type": "markdown",
   "id": "2454002c-1f88-48f8-ab9a-44bb0d02c8c9",
   "metadata": {},
   "source": [
    "#### fit_transform()은 변환기(Transformer) 객체에서 사용되는 메서드이고, fit()은 모델 학습을 위한 메서드\n",
    "#### **fit_transform()은 변환기(Transformer)에서 주로 사용됩니다. 예를 들어, StandardScaler, MinMaxScaler, PCA와 같은 변환기에서 데이터의 스케일링, 차원 축소 등을 할 때 사용**"
   ]
  },
  {
   "cell_type": "code",
   "execution_count": 37,
   "id": "4e05fe8c-421f-471d-a51e-3ea009c80827",
   "metadata": {},
   "outputs": [
    {
     "name": "stdout",
     "output_type": "stream",
     "text": [
      "     id         price\n",
      "0  7469  32254.832031\n",
      "1  7470  21927.570312\n",
      "2  7471  30821.490234\n",
      "3  7472  13200.222656\n",
      "4  7473  18354.972656\n"
     ]
    }
   ],
   "source": [
    "# 예측\n",
    "y_pred = model.predict(df_test)\n",
    "\n",
    "df = pd.DataFrame(x_test['id'], columns=['id'])\n",
    "# 예측값 컬럼 추가\n",
    "df['price'] = y_pred\n",
    "print(df.head())"
   ]
  },
  {
   "cell_type": "code",
   "execution_count": null,
   "id": "b6fbf7f1-1666-4473-a217-25fe02c501f5",
   "metadata": {},
   "outputs": [],
   "source": []
  }
 ],
 "metadata": {
  "kernelspec": {
   "display_name": "Python 3 (ipykernel)",
   "language": "python",
   "name": "python3"
  },
  "language_info": {
   "codemirror_mode": {
    "name": "ipython",
    "version": 3
   },
   "file_extension": ".py",
   "mimetype": "text/x-python",
   "name": "python",
   "nbconvert_exporter": "python",
   "pygments_lexer": "ipython3",
   "version": "3.11.7"
  }
 },
 "nbformat": 4,
 "nbformat_minor": 5
}
