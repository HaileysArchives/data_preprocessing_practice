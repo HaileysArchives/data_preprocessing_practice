{
 "cells": [
  {
   "cell_type": "markdown",
   "id": "c499095d-9f9d-41f5-b2cd-ea2d3c4547b9",
   "metadata": {},
   "source": [
    "# **분류 vs 회귀 문제**\n",
    "## **1. 회귀 문제**\n",
    "#### (1) MSE(Mean Squared Error): 제곱해 평균을 계산\n",
    "#### (2) RMSE(Root Mean Squared Error): MSE의 제곱근\n",
    "#### (3) MAE(Mean Absolute Error): 예측값과 실제값의 차이의 절댓값을 평균\n",
    "## **2. 분류 문제**\n",
    "#### (1) f1-score: 정밀도와 재현율의 조화 평균\n",
    "#### (2) roc-auc: 곡선 아래 면적을 계산"
   ]
  },
  {
   "cell_type": "code",
   "execution_count": 1,
   "id": "a830d286-b6bc-4061-ba60-37dae6b99145",
   "metadata": {},
   "outputs": [
    {
     "ename": "NameError",
     "evalue": "name 'y_true' is not defined",
     "output_type": "error",
     "traceback": [
      "\u001b[1;31m---------------------------------------------------------------------------\u001b[0m",
      "\u001b[1;31mNameError\u001b[0m                                 Traceback (most recent call last)",
      "Cell \u001b[1;32mIn[1], line 3\u001b[0m\n\u001b[0;32m      1\u001b[0m \u001b[38;5;28;01mfrom\u001b[39;00m \u001b[38;5;21;01msklearn\u001b[39;00m\u001b[38;5;21;01m.\u001b[39;00m\u001b[38;5;21;01mmetrics\u001b[39;00m \u001b[38;5;28;01mimport\u001b[39;00m mean_squared_error, mean_absolute_error\n\u001b[1;32m----> 3\u001b[0m mse \u001b[38;5;241m=\u001b[39m mean_squared_error(y_true, y_pred)\n\u001b[0;32m      4\u001b[0m rmse \u001b[38;5;241m=\u001b[39m mean_squared_error(y_true, y_pred, squared\u001b[38;5;241m=\u001b[39m\u001b[38;5;28;01mFalse\u001b[39;00m) \u001b[38;5;66;03m# squared=False\u001b[39;00m\n\u001b[0;32m      5\u001b[0m mae \u001b[38;5;241m=\u001b[39m mean_absolute_error(y_true, y_pred)\n",
      "\u001b[1;31mNameError\u001b[0m: name 'y_true' is not defined"
     ]
    }
   ],
   "source": [
    "from sklearn.metrics import mean_squared_error, mean_absolute_error\n",
    "\n",
    "mse = mean_squared_error(y_true, y_pred)\n",
    "rmse = mean_squared_error(y_true, y_pred, squared=False) # squared=False\n",
    "mae = mean_absolute_error(y_true, y_pred)"
   ]
  },
  {
   "cell_type": "code",
   "execution_count": null,
   "id": "4ea62779-dbc6-441b-afb2-0c4e6c8a01f9",
   "metadata": {},
   "outputs": [],
   "source": [
    "from sklearn.metrics import f1_score, roc_auc_score\n",
    "\n",
    "f1 = f1_score(y_true, y_pred)\n",
    "roc_auc = roc_auc_score(y_true, y_pred_prob)"
   ]
  },
  {
   "cell_type": "code",
   "execution_count": 4,
   "id": "43d41bce-3496-436e-9d2b-ef319e4fd24d",
   "metadata": {},
   "outputs": [
    {
     "name": "stdout",
     "output_type": "stream",
     "text": [
      "Requirement already satisfied: xgboost in c:\\users\\carly\\anaconda3\\lib\\site-packages (2.1.3)\n",
      "Requirement already satisfied: numpy in c:\\users\\carly\\anaconda3\\lib\\site-packages (from xgboost) (1.26.4)\n",
      "Requirement already satisfied: scipy in c:\\users\\carly\\anaconda3\\lib\\site-packages (from xgboost) (1.11.4)\n"
     ]
    }
   ],
   "source": [
    "# 라이브러리 \n",
    "from sklearn.preprocessing import StandardScaler\n",
    "from sklearn.preprocessing import MinMaxScaler\n",
    "from sklearn.model_selection import train_test_split\n",
    "\n",
    "from pandas.core.common import random_state\n",
    "\n",
    "from sklearn.metrics import roc_auc_score # 분류 \n",
    "from sklearn.metrics import f1_score # 분류\n",
    "from sklearn.metrics import mean_squared_error # 회귀\n",
    "from sklearn.metrics import mean_absolute_error # 회귀\n",
    "\n",
    "from sklearn.ensemble import RandomForestClassifier\n",
    "\n",
    "!pip install xgboost\n",
    "import xgboost as xgb"
   ]
  },
  {
   "cell_type": "code",
   "execution_count": 5,
   "id": "21b4960c-4046-441d-a6c5-8549f3c92984",
   "metadata": {},
   "outputs": [],
   "source": [
    "# 1유형 라이브러리 \n",
    "import pandas as pd\n",
    "import numpy as np\n",
    "import seaborn as sns\n",
    "import matplotlib.pyplot as plt\n",
    "\n",
    "from collections import Counter\n",
    "\n",
    "import datetime"
   ]
  },
  {
   "cell_type": "markdown",
   "id": "e4924ce0-1234-4d83-ae58-f5097f58e013",
   "metadata": {},
   "source": [
    "# **회귀 모델**\n",
    "### **이직 여부 예측**"
   ]
  },
  {
   "cell_type": "code",
   "execution_count": 6,
   "id": "7d966346-0620-43fd-b6f5-0dc902396f45",
   "metadata": {},
   "outputs": [],
   "source": [
    "import pandas as pd\n",
    "import numpy as np\n",
    "\n",
    "x_train = pd.read_csv(\"https://raw.githubusercontent.com/Datamanim/datarepo/main/HRdata/X_train.csv\")\n",
    "y_train = pd.read_csv(\"https://raw.githubusercontent.com/Datamanim/datarepo/main/HRdata/y_train.csv\")\n",
    "x_test = pd.read_csv(\"https://raw.githubusercontent.com/Datamanim/datarepo/main/HRdata/X_test.csv\")"
   ]
  },
  {
   "cell_type": "code",
   "execution_count": 7,
   "id": "f68fd055-8d9b-47b1-bc54-c88eaea92c77",
   "metadata": {},
   "outputs": [
    {
     "data": {
      "text/html": [
       "<div>\n",
       "<style scoped>\n",
       "    .dataframe tbody tr th:only-of-type {\n",
       "        vertical-align: middle;\n",
       "    }\n",
       "\n",
       "    .dataframe tbody tr th {\n",
       "        vertical-align: top;\n",
       "    }\n",
       "\n",
       "    .dataframe thead th {\n",
       "        text-align: right;\n",
       "    }\n",
       "</style>\n",
       "<table border=\"1\" class=\"dataframe\">\n",
       "  <thead>\n",
       "    <tr style=\"text-align: right;\">\n",
       "      <th></th>\n",
       "      <th>enrollee_id</th>\n",
       "      <th>city</th>\n",
       "      <th>city_development_index</th>\n",
       "      <th>gender</th>\n",
       "      <th>relevent_experience</th>\n",
       "      <th>enrolled_university</th>\n",
       "      <th>education_level</th>\n",
       "      <th>major_discipline</th>\n",
       "      <th>experience</th>\n",
       "      <th>company_size</th>\n",
       "      <th>company_type</th>\n",
       "      <th>last_new_job</th>\n",
       "      <th>training_hours</th>\n",
       "    </tr>\n",
       "  </thead>\n",
       "  <tbody>\n",
       "    <tr>\n",
       "      <th>0</th>\n",
       "      <td>25298</td>\n",
       "      <td>city_138</td>\n",
       "      <td>0.836</td>\n",
       "      <td>Male</td>\n",
       "      <td>No relevent experience</td>\n",
       "      <td>Full time course</td>\n",
       "      <td>High School</td>\n",
       "      <td>NaN</td>\n",
       "      <td>5</td>\n",
       "      <td>100-500</td>\n",
       "      <td>Pvt Ltd</td>\n",
       "      <td>1</td>\n",
       "      <td>45</td>\n",
       "    </tr>\n",
       "    <tr>\n",
       "      <th>1</th>\n",
       "      <td>4241</td>\n",
       "      <td>city_160</td>\n",
       "      <td>0.920</td>\n",
       "      <td>Male</td>\n",
       "      <td>No relevent experience</td>\n",
       "      <td>Full time course</td>\n",
       "      <td>High School</td>\n",
       "      <td>NaN</td>\n",
       "      <td>5</td>\n",
       "      <td>NaN</td>\n",
       "      <td>NaN</td>\n",
       "      <td>1</td>\n",
       "      <td>17</td>\n",
       "    </tr>\n",
       "    <tr>\n",
       "      <th>2</th>\n",
       "      <td>24086</td>\n",
       "      <td>city_57</td>\n",
       "      <td>0.866</td>\n",
       "      <td>Male</td>\n",
       "      <td>No relevent experience</td>\n",
       "      <td>no_enrollment</td>\n",
       "      <td>Graduate</td>\n",
       "      <td>STEM</td>\n",
       "      <td>10</td>\n",
       "      <td>NaN</td>\n",
       "      <td>NaN</td>\n",
       "      <td>1</td>\n",
       "      <td>50</td>\n",
       "    </tr>\n",
       "    <tr>\n",
       "      <th>3</th>\n",
       "      <td>26773</td>\n",
       "      <td>city_16</td>\n",
       "      <td>0.910</td>\n",
       "      <td>Male</td>\n",
       "      <td>Has relevent experience</td>\n",
       "      <td>no_enrollment</td>\n",
       "      <td>Graduate</td>\n",
       "      <td>STEM</td>\n",
       "      <td>&gt;20</td>\n",
       "      <td>50-99</td>\n",
       "      <td>Pvt Ltd</td>\n",
       "      <td>&gt;4</td>\n",
       "      <td>135</td>\n",
       "    </tr>\n",
       "    <tr>\n",
       "      <th>4</th>\n",
       "      <td>32325</td>\n",
       "      <td>city_143</td>\n",
       "      <td>0.740</td>\n",
       "      <td>NaN</td>\n",
       "      <td>No relevent experience</td>\n",
       "      <td>Full time course</td>\n",
       "      <td>Graduate</td>\n",
       "      <td>STEM</td>\n",
       "      <td>5</td>\n",
       "      <td>NaN</td>\n",
       "      <td>NaN</td>\n",
       "      <td>never</td>\n",
       "      <td>17</td>\n",
       "    </tr>\n",
       "  </tbody>\n",
       "</table>\n",
       "</div>"
      ],
      "text/plain": [
       "   enrollee_id      city  city_development_index gender  \\\n",
       "0        25298  city_138                   0.836   Male   \n",
       "1         4241  city_160                   0.920   Male   \n",
       "2        24086   city_57                   0.866   Male   \n",
       "3        26773   city_16                   0.910   Male   \n",
       "4        32325  city_143                   0.740    NaN   \n",
       "\n",
       "       relevent_experience enrolled_university education_level  \\\n",
       "0   No relevent experience    Full time course     High School   \n",
       "1   No relevent experience    Full time course     High School   \n",
       "2   No relevent experience       no_enrollment        Graduate   \n",
       "3  Has relevent experience       no_enrollment        Graduate   \n",
       "4   No relevent experience    Full time course        Graduate   \n",
       "\n",
       "  major_discipline experience company_size company_type last_new_job  \\\n",
       "0              NaN          5      100-500      Pvt Ltd            1   \n",
       "1              NaN          5          NaN          NaN            1   \n",
       "2             STEM         10          NaN          NaN            1   \n",
       "3             STEM        >20        50-99      Pvt Ltd           >4   \n",
       "4             STEM          5          NaN          NaN        never   \n",
       "\n",
       "   training_hours  \n",
       "0              45  \n",
       "1              17  \n",
       "2              50  \n",
       "3             135  \n",
       "4              17  "
      ]
     },
     "execution_count": 7,
     "metadata": {},
     "output_type": "execute_result"
    }
   ],
   "source": [
    "x_train.head()"
   ]
  },
  {
   "cell_type": "markdown",
   "id": "5dc0f42c-f010-4a6c-902e-8de5eb92af56",
   "metadata": {},
   "source": [
    "#### **1.결측치 확인** \n",
    "#### **2.데이터 타입 확인** \n",
    "#### **3.데이터 나누기(이산형 vs 범주형)** \n",
    "#### **4.데이터 스케일링**\n",
    "#### **5.데이터 프레임 설정** \n",
    "#### **6.원핫인코딩**\n",
    "#### **7.train_test_split(validation)**\n",
    "#### **8.모델 학습**\n",
    "#### **9.성능 평가**\n",
    "#### **10.예측 및 csv파일 생성** "
   ]
  },
  {
   "cell_type": "code",
   "execution_count": 11,
   "id": "9c6415ca-290f-48fb-9944-4465ff7fd920",
   "metadata": {},
   "outputs": [
    {
     "name": "stdout",
     "output_type": "stream",
     "text": [
      "enrollee_id                  0\n",
      "city                         0\n",
      "city_development_index       0\n",
      "gender                    2917\n",
      "relevent_experience          0\n",
      "enrolled_university        257\n",
      "education_level            315\n",
      "major_discipline          1866\n",
      "experience                  37\n",
      "company_size              3852\n",
      "company_type              3981\n",
      "last_new_job               273\n",
      "training_hours               0\n",
      "dtype: int64\n",
      "\n",
      "enrollee_id                  0\n",
      "city                         0\n",
      "city_development_index       0\n",
      "gender                    1591\n",
      "relevent_experience          0\n",
      "enrolled_university        129\n",
      "education_level            145\n",
      "major_discipline           947\n",
      "experience                  28\n",
      "company_size              2086\n",
      "company_type              2159\n",
      "last_new_job               150\n",
      "training_hours               0\n",
      "dtype: int64\n",
      "\n",
      "enrollee_id    0\n",
      "target         0\n",
      "dtype: int64\n"
     ]
    }
   ],
   "source": [
    "# 결측치 확인\n",
    "print(x_train.isnull().sum())\n",
    "print()\n",
    "print(x_test.isnull().sum())\n",
    "print()\n",
    "print(y_train.isnull().sum())"
   ]
  },
  {
   "cell_type": "code",
   "execution_count": 14,
   "id": "14bb7426-1b97-4aa6-ba3c-393c181c174d",
   "metadata": {},
   "outputs": [
    {
     "name": "stdout",
     "output_type": "stream",
     "text": [
      "<class 'pandas.core.frame.DataFrame'>\n",
      "RangeIndex: 12452 entries, 0 to 12451\n",
      "Data columns (total 12 columns):\n",
      " #   Column                  Non-Null Count  Dtype  \n",
      "---  ------                  --------------  -----  \n",
      " 0   city                    12452 non-null  object \n",
      " 1   city_development_index  12452 non-null  float64\n",
      " 2   gender                  9535 non-null   object \n",
      " 3   relevent_experience     12452 non-null  object \n",
      " 4   enrolled_university     12195 non-null  object \n",
      " 5   education_level         12137 non-null  object \n",
      " 6   major_discipline        10586 non-null  object \n",
      " 7   experience              12415 non-null  object \n",
      " 8   company_size            8600 non-null   object \n",
      " 9   company_type            8471 non-null   object \n",
      " 10  last_new_job            12179 non-null  object \n",
      " 11  training_hours          12452 non-null  int64  \n",
      "dtypes: float64(1), int64(1), object(10)\n",
      "memory usage: 1.1+ MB\n"
     ]
    }
   ],
   "source": [
    "# id 저장 후 제거 \n",
    "x_train = x_train.drop(columns=['enrollee_id'])\n",
    "x_test = x_test.drop(columns=['enrollee_id'])"
   ]
  },
  {
   "cell_type": "code",
   "execution_count": 15,
   "id": "36b9fc2a-dec2-4174-904f-bb331c951a8c",
   "metadata": {},
   "outputs": [],
   "source": [
    "# city_development_index 열 결측치 처리\n",
    "mean_city_development_index_train = x_train['city_development_index'].mean()\n",
    "x_train['city_development_index'].fillna(mean_city_development_index_train, inplace=True)\n",
    "\n",
    "mean_city_development_index_test = x_test['city_development_index'].mean()\n",
    "x_test['city_development_index'].fillna(mean_city_development_index_test, inplace=True)\n",
    "\n",
    "# training_hours 열 결측치 처리\n",
    "mean_training_hours_train = x_train['training_hours'].mean()\n",
    "x_train['training_hours'].fillna(mean_training_hours_train, inplace=True)\n",
    "\n",
    "mean_training_hours_test = x_test['training_hours'].mean()\n",
    "x_test['training_hours'].fillna(mean_training_hours_test, inplace=True)\n"
   ]
  },
  {
   "cell_type": "code",
   "execution_count": null,
   "id": "27716edb-9e33-4a6e-afb0-a2ed493834a0",
   "metadata": {},
   "outputs": [],
   "source": []
  }
 ],
 "metadata": {
  "kernelspec": {
   "display_name": "Python 3 (ipykernel)",
   "language": "python",
   "name": "python3"
  },
  "language_info": {
   "codemirror_mode": {
    "name": "ipython",
    "version": 3
   },
   "file_extension": ".py",
   "mimetype": "text/x-python",
   "name": "python",
   "nbconvert_exporter": "python",
   "pygments_lexer": "ipython3",
   "version": "3.11.7"
  }
 },
 "nbformat": 4,
 "nbformat_minor": 5
}
