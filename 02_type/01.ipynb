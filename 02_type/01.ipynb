{
 "cells": [
  {
   "cell_type": "code",
   "execution_count": 1,
   "id": "c0abcc0e-3829-4d85-8bf9-8f66b2528e30",
   "metadata": {},
   "outputs": [],
   "source": [
    "import pandas as pd\n",
    "import numpy as np\n",
    "import seaborn as sns\n",
    "import matplotlib.pyplot as plt\n",
    "\n",
    "from collections import Counter\n",
    "import datetime"
   ]
  },
  {
   "cell_type": "code",
   "execution_count": 2,
   "id": "d2898feb-c407-4e17-ad1a-462a302e4628",
   "metadata": {},
   "outputs": [
    {
     "data": {
      "text/html": [
       "<div>\n",
       "<style scoped>\n",
       "    .dataframe tbody tr th:only-of-type {\n",
       "        vertical-align: middle;\n",
       "    }\n",
       "\n",
       "    .dataframe tbody tr th {\n",
       "        vertical-align: top;\n",
       "    }\n",
       "\n",
       "    .dataframe thead th {\n",
       "        text-align: right;\n",
       "    }\n",
       "</style>\n",
       "<table border=\"1\" class=\"dataframe\">\n",
       "  <thead>\n",
       "    <tr style=\"text-align: right;\">\n",
       "      <th></th>\n",
       "      <th>일평균수면시간</th>\n",
       "      <th>일평균학습시간</th>\n",
       "      <th>일평균스마트폰사용시간</th>\n",
       "      <th>키</th>\n",
       "      <th>몸무게</th>\n",
       "      <th>체격</th>\n",
       "      <th>기초대사량</th>\n",
       "      <th>거주지역</th>\n",
       "      <th>구분</th>\n",
       "    </tr>\n",
       "  </thead>\n",
       "  <tbody>\n",
       "    <tr>\n",
       "      <th>0</th>\n",
       "      <td>7.35</td>\n",
       "      <td>7.74</td>\n",
       "      <td>4.8</td>\n",
       "      <td>Tall</td>\n",
       "      <td>52.050</td>\n",
       "      <td>L</td>\n",
       "      <td>1499.4</td>\n",
       "      <td>동구</td>\n",
       "      <td>고등학생</td>\n",
       "    </tr>\n",
       "    <tr>\n",
       "      <th>1</th>\n",
       "      <td>7.05</td>\n",
       "      <td>8.10</td>\n",
       "      <td>1.2</td>\n",
       "      <td>Tall</td>\n",
       "      <td>51.300</td>\n",
       "      <td>M</td>\n",
       "      <td>1624.4</td>\n",
       "      <td>서구</td>\n",
       "      <td>중학생</td>\n",
       "    </tr>\n",
       "    <tr>\n",
       "      <th>2</th>\n",
       "      <td>7.35</td>\n",
       "      <td>7.74</td>\n",
       "      <td>3.0</td>\n",
       "      <td>Tall</td>\n",
       "      <td>51.285</td>\n",
       "      <td>L</td>\n",
       "      <td>1499.4</td>\n",
       "      <td>동구</td>\n",
       "      <td>고등학생</td>\n",
       "    </tr>\n",
       "    <tr>\n",
       "      <th>3</th>\n",
       "      <td>8.58</td>\n",
       "      <td>6.66</td>\n",
       "      <td>4.8</td>\n",
       "      <td>Short</td>\n",
       "      <td>25.545</td>\n",
       "      <td>XS</td>\n",
       "      <td>1249.5</td>\n",
       "      <td>서구</td>\n",
       "      <td>초등학생</td>\n",
       "    </tr>\n",
       "    <tr>\n",
       "      <th>4</th>\n",
       "      <td>7.05</td>\n",
       "      <td>8.10</td>\n",
       "      <td>4.8</td>\n",
       "      <td>Tall</td>\n",
       "      <td>54.150</td>\n",
       "      <td>M</td>\n",
       "      <td>1624.4</td>\n",
       "      <td>서구</td>\n",
       "      <td>대학생</td>\n",
       "    </tr>\n",
       "  </tbody>\n",
       "</table>\n",
       "</div>"
      ],
      "text/plain": [
       "   일평균수면시간  일평균학습시간  일평균스마트폰사용시간      키     몸무게  체격   기초대사량 거주지역    구분\n",
       "0     7.35     7.74          4.8   Tall  52.050   L  1499.4   동구  고등학생\n",
       "1     7.05     8.10          1.2   Tall  51.300   M  1624.4   서구   중학생\n",
       "2     7.35     7.74          3.0   Tall  51.285   L  1499.4   동구  고등학생\n",
       "3     8.58     6.66          4.8  Short  25.545  XS  1249.5   서구  초등학생\n",
       "4     7.05     8.10          4.8   Tall  54.150   M  1624.4   서구   대학생"
      ]
     },
     "execution_count": 2,
     "metadata": {},
     "output_type": "execute_result"
    }
   ],
   "source": [
    "train = pd.read_csv('https://raw.githubusercontent.com/YoungjinBD/dataset/main/data_6_2_train.csv')\n",
    "test = pd.read_csv('https://raw.githubusercontent.com/youngjinBD/dataset/main/data_6_2_test.csv')\n",
    "\n",
    "train.head()"
   ]
  },
  {
   "cell_type": "markdown",
   "id": "a51ed259-2cb2-48c5-ac61-395db8bdf7b9",
   "metadata": {},
   "source": [
    "### **학생 530명에 대한 학습용(train) 데이터를 이용하여 학생 구분(유치원생, 초등학생, 중학생, 고등학생, 대학생) 예측 모형을 만든 후, 이를 평가용(test) 데이터에 적용하여 얻은 230명 학생의 구분을 다음과 같은 형식의 csv 파일로 생성하시오.**"
   ]
  },
  {
   "cell_type": "code",
   "execution_count": 3,
   "id": "5ac1e93d-c2c8-4046-889e-121448a26002",
   "metadata": {},
   "outputs": [
    {
     "name": "stdout",
     "output_type": "stream",
     "text": [
      "<class 'pandas.core.frame.DataFrame'>\n",
      "RangeIndex: 530 entries, 0 to 529\n",
      "Data columns (total 9 columns):\n",
      " #   Column       Non-Null Count  Dtype  \n",
      "---  ------       --------------  -----  \n",
      " 0   일평균수면시간      530 non-null    float64\n",
      " 1   일평균학습시간      530 non-null    float64\n",
      " 2   일평균스마트폰사용시간  530 non-null    float64\n",
      " 3   키            530 non-null    object \n",
      " 4   몸무게          530 non-null    float64\n",
      " 5   체격           530 non-null    object \n",
      " 6   기초대사량        530 non-null    float64\n",
      " 7   거주지역         530 non-null    object \n",
      " 8   구분           530 non-null    object \n",
      "dtypes: float64(5), object(4)\n",
      "memory usage: 37.4+ KB\n"
     ]
    }
   ],
   "source": [
    "train.info()"
   ]
  },
  {
   "cell_type": "code",
   "execution_count": 4,
   "id": "2bec599c-bd10-473b-85ff-f65c5e72932b",
   "metadata": {},
   "outputs": [
    {
     "name": "stdout",
     "output_type": "stream",
     "text": [
      "<class 'pandas.core.frame.DataFrame'>\n",
      "RangeIndex: 230 entries, 0 to 229\n",
      "Data columns (total 8 columns):\n",
      " #   Column       Non-Null Count  Dtype  \n",
      "---  ------       --------------  -----  \n",
      " 0   일평균수면시간      230 non-null    float64\n",
      " 1   일평균학습시간      230 non-null    float64\n",
      " 2   일평균스마트폰사용시간  230 non-null    float64\n",
      " 3   키            230 non-null    object \n",
      " 4   몸무게          230 non-null    float64\n",
      " 5   체격           230 non-null    object \n",
      " 6   기초대사량        230 non-null    float64\n",
      " 7   거주지역         230 non-null    object \n",
      "dtypes: float64(5), object(3)\n",
      "memory usage: 14.5+ KB\n"
     ]
    }
   ],
   "source": [
    "test.info()"
   ]
  },
  {
   "cell_type": "code",
   "execution_count": 5,
   "id": "0d362645-e5e7-4ee5-9941-a8329567caac",
   "metadata": {},
   "outputs": [
    {
     "data": {
      "text/plain": [
       "일평균수면시간        0\n",
       "일평균학습시간        0\n",
       "일평균스마트폰사용시간    0\n",
       "키              0\n",
       "몸무게            0\n",
       "체격             0\n",
       "기초대사량          0\n",
       "거주지역           0\n",
       "구분             0\n",
       "dtype: int64"
      ]
     },
     "execution_count": 5,
     "metadata": {},
     "output_type": "execute_result"
    }
   ],
   "source": [
    "# 학습용 데이터 결측치 확인\n",
    "train.isnull().sum()"
   ]
  },
  {
   "cell_type": "code",
   "execution_count": 6,
   "id": "8e8d122f-2088-490a-9305-c5e2abfa29ac",
   "metadata": {},
   "outputs": [
    {
     "data": {
      "text/plain": [
       "구분\n",
       "유치원생    140\n",
       "초등학생    121\n",
       "고등학생    120\n",
       "대학생      78\n",
       "중학생      71\n",
       "Name: count, dtype: int64"
      ]
     },
     "execution_count": 6,
     "metadata": {},
     "output_type": "execute_result"
    }
   ],
   "source": [
    "# 학습용 데이터의 타겟 값 분포 확인\n",
    "train['구분'].value_counts()"
   ]
  },
  {
   "cell_type": "code",
   "execution_count": 7,
   "id": "33443bbb-abfc-4cf7-ab7e-574080f86cd0",
   "metadata": {},
   "outputs": [
    {
     "name": "stdout",
     "output_type": "stream",
     "text": [
      "<class 'pandas.core.frame.DataFrame'>\n",
      "RangeIndex: 230 entries, 0 to 229\n",
      "Data columns (total 8 columns):\n",
      " #   Column       Non-Null Count  Dtype  \n",
      "---  ------       --------------  -----  \n",
      " 0   일평균수면시간      230 non-null    float64\n",
      " 1   일평균학습시간      230 non-null    float64\n",
      " 2   일평균스마트폰사용시간  230 non-null    float64\n",
      " 3   키            230 non-null    object \n",
      " 4   몸무게          230 non-null    float64\n",
      " 5   체격           230 non-null    object \n",
      " 6   기초대사량        230 non-null    float64\n",
      " 7   거주지역         230 non-null    object \n",
      "dtypes: float64(5), object(3)\n",
      "memory usage: 14.5+ KB\n"
     ]
    }
   ],
   "source": [
    "# 테스트용 데이터 데이터타입 확인\n",
    "test.info()"
   ]
  },
  {
   "cell_type": "markdown",
   "id": "3fed3ded-0a87-44dd-8ba1-0d7aad50bf80",
   "metadata": {},
   "source": [
    "# **describe(include='object')**\n",
    "### **데이터 타입이 object인 열만 포함하여 통계 요약 계산**"
   ]
  },
  {
   "cell_type": "code",
   "execution_count": 9,
   "id": "988cd1c1-87e9-4d66-8457-72d8362b04b8",
   "metadata": {},
   "outputs": [
    {
     "data": {
      "text/html": [
       "<div>\n",
       "<style scoped>\n",
       "    .dataframe tbody tr th:only-of-type {\n",
       "        vertical-align: middle;\n",
       "    }\n",
       "\n",
       "    .dataframe tbody tr th {\n",
       "        vertical-align: top;\n",
       "    }\n",
       "\n",
       "    .dataframe thead th {\n",
       "        text-align: right;\n",
       "    }\n",
       "</style>\n",
       "<table border=\"1\" class=\"dataframe\">\n",
       "  <thead>\n",
       "    <tr style=\"text-align: right;\">\n",
       "      <th></th>\n",
       "      <th>키</th>\n",
       "      <th>체격</th>\n",
       "      <th>거주지역</th>\n",
       "    </tr>\n",
       "  </thead>\n",
       "  <tbody>\n",
       "    <tr>\n",
       "      <th>count</th>\n",
       "      <td>230</td>\n",
       "      <td>230</td>\n",
       "      <td>230</td>\n",
       "    </tr>\n",
       "    <tr>\n",
       "      <th>unique</th>\n",
       "      <td>2</td>\n",
       "      <td>4</td>\n",
       "      <td>4</td>\n",
       "    </tr>\n",
       "    <tr>\n",
       "      <th>top</th>\n",
       "      <td>Short</td>\n",
       "      <td>XS</td>\n",
       "      <td>북구</td>\n",
       "    </tr>\n",
       "    <tr>\n",
       "      <th>freq</th>\n",
       "      <td>126</td>\n",
       "      <td>126</td>\n",
       "      <td>74</td>\n",
       "    </tr>\n",
       "  </tbody>\n",
       "</table>\n",
       "</div>"
      ],
      "text/plain": [
       "            키   체격 거주지역\n",
       "count     230  230  230\n",
       "unique      2    4    4\n",
       "top     Short   XS   북구\n",
       "freq      126  126   74"
      ]
     },
     "execution_count": 9,
     "metadata": {},
     "output_type": "execute_result"
    }
   ],
   "source": [
    "# 테스트용 데이터 기초 통계 확인\n",
    "test.describe(include='object')"
   ]
  },
  {
   "cell_type": "code",
   "execution_count": 11,
   "id": "c746c11e-54a9-4adc-b9ff-a83c9b83ac42",
   "metadata": {},
   "outputs": [
    {
     "data": {
      "text/plain": [
       "일평균수면시간        0\n",
       "일평균학습시간        0\n",
       "일평균스마트폰사용시간    0\n",
       "키              0\n",
       "몸무게            0\n",
       "체격             0\n",
       "기초대사량          0\n",
       "거주지역           0\n",
       "dtype: int64"
      ]
     },
     "execution_count": 11,
     "metadata": {},
     "output_type": "execute_result"
    }
   ],
   "source": [
    "# 테스트용 데이터 결측치 확인\n",
    "test.isnull().sum()"
   ]
  },
  {
   "cell_type": "markdown",
   "id": "8ecd75e3-7259-4cc2-b108-5754dfe0f2ad",
   "metadata": {},
   "source": [
    "## **pop(): 지정된 열을 데이터프레임에서 제거하고 그 열의 데이터 반환**"
   ]
  },
  {
   "cell_type": "code",
   "execution_count": 14,
   "id": "3dd560e7-7978-46b2-90a6-47a751f77893",
   "metadata": {},
   "outputs": [
    {
     "data": {
      "text/plain": [
       "0      고등학생\n",
       "1       중학생\n",
       "2      고등학생\n",
       "3      초등학생\n",
       "4       대학생\n",
       "       ... \n",
       "525    초등학생\n",
       "526    고등학생\n",
       "527     중학생\n",
       "528    유치원생\n",
       "529    고등학생\n",
       "Name: 구분, Length: 530, dtype: object"
      ]
     },
     "execution_count": 14,
     "metadata": {},
     "output_type": "execute_result"
    }
   ],
   "source": [
    "# 학습용 데이터 타겟 값 처리\n",
    "target = train.pop('구분')\n",
    "target"
   ]
  },
  {
   "cell_type": "code",
   "execution_count": 17,
   "id": "c9d6bdbe-a55f-4580-882a-36c25a69d999",
   "metadata": {},
   "outputs": [
    {
     "data": {
      "text/html": [
       "<div>\n",
       "<style scoped>\n",
       "    .dataframe tbody tr th:only-of-type {\n",
       "        vertical-align: middle;\n",
       "    }\n",
       "\n",
       "    .dataframe tbody tr th {\n",
       "        vertical-align: top;\n",
       "    }\n",
       "\n",
       "    .dataframe thead th {\n",
       "        text-align: right;\n",
       "    }\n",
       "</style>\n",
       "<table border=\"1\" class=\"dataframe\">\n",
       "  <thead>\n",
       "    <tr style=\"text-align: right;\">\n",
       "      <th></th>\n",
       "      <th>일평균수면시간</th>\n",
       "      <th>일평균학습시간</th>\n",
       "      <th>일평균스마트폰사용시간</th>\n",
       "      <th>키</th>\n",
       "      <th>몸무게</th>\n",
       "      <th>체격</th>\n",
       "      <th>기초대사량</th>\n",
       "      <th>거주지역</th>\n",
       "    </tr>\n",
       "  </thead>\n",
       "  <tbody>\n",
       "    <tr>\n",
       "      <th>0</th>\n",
       "      <td>7.35</td>\n",
       "      <td>7.74</td>\n",
       "      <td>4.8</td>\n",
       "      <td>Tall</td>\n",
       "      <td>52.050</td>\n",
       "      <td>L</td>\n",
       "      <td>1499.4</td>\n",
       "      <td>동구</td>\n",
       "    </tr>\n",
       "    <tr>\n",
       "      <th>1</th>\n",
       "      <td>7.05</td>\n",
       "      <td>8.10</td>\n",
       "      <td>1.2</td>\n",
       "      <td>Tall</td>\n",
       "      <td>51.300</td>\n",
       "      <td>M</td>\n",
       "      <td>1624.4</td>\n",
       "      <td>서구</td>\n",
       "    </tr>\n",
       "    <tr>\n",
       "      <th>2</th>\n",
       "      <td>7.35</td>\n",
       "      <td>7.74</td>\n",
       "      <td>3.0</td>\n",
       "      <td>Tall</td>\n",
       "      <td>51.285</td>\n",
       "      <td>L</td>\n",
       "      <td>1499.4</td>\n",
       "      <td>동구</td>\n",
       "    </tr>\n",
       "    <tr>\n",
       "      <th>3</th>\n",
       "      <td>8.58</td>\n",
       "      <td>6.66</td>\n",
       "      <td>4.8</td>\n",
       "      <td>Short</td>\n",
       "      <td>25.545</td>\n",
       "      <td>XS</td>\n",
       "      <td>1249.5</td>\n",
       "      <td>서구</td>\n",
       "    </tr>\n",
       "    <tr>\n",
       "      <th>4</th>\n",
       "      <td>7.05</td>\n",
       "      <td>8.10</td>\n",
       "      <td>4.8</td>\n",
       "      <td>Tall</td>\n",
       "      <td>54.150</td>\n",
       "      <td>M</td>\n",
       "      <td>1624.4</td>\n",
       "      <td>서구</td>\n",
       "    </tr>\n",
       "  </tbody>\n",
       "</table>\n",
       "</div>"
      ],
      "text/plain": [
       "   일평균수면시간  일평균학습시간  일평균스마트폰사용시간      키     몸무게  체격   기초대사량 거주지역\n",
       "0     7.35     7.74          4.8   Tall  52.050   L  1499.4   동구\n",
       "1     7.05     8.10          1.2   Tall  51.300   M  1624.4   서구\n",
       "2     7.35     7.74          3.0   Tall  51.285   L  1499.4   동구\n",
       "3     8.58     6.66          4.8  Short  25.545  XS  1249.5   서구\n",
       "4     7.05     8.10          4.8   Tall  54.150   M  1624.4   서구"
      ]
     },
     "execution_count": 17,
     "metadata": {},
     "output_type": "execute_result"
    }
   ],
   "source": [
    "train.head()"
   ]
  },
  {
   "cell_type": "code",
   "execution_count": 16,
   "id": "0ecacd52-969e-446e-b6f2-adc7bbfa3f27",
   "metadata": {},
   "outputs": [
    {
     "data": {
      "text/html": [
       "<div>\n",
       "<style scoped>\n",
       "    .dataframe tbody tr th:only-of-type {\n",
       "        vertical-align: middle;\n",
       "    }\n",
       "\n",
       "    .dataframe tbody tr th {\n",
       "        vertical-align: top;\n",
       "    }\n",
       "\n",
       "    .dataframe thead th {\n",
       "        text-align: right;\n",
       "    }\n",
       "</style>\n",
       "<table border=\"1\" class=\"dataframe\">\n",
       "  <thead>\n",
       "    <tr style=\"text-align: right;\">\n",
       "      <th></th>\n",
       "      <th>일평균수면시간</th>\n",
       "      <th>일평균학습시간</th>\n",
       "      <th>일평균스마트폰사용시간</th>\n",
       "      <th>몸무게</th>\n",
       "      <th>기초대사량</th>\n",
       "      <th>키_Short</th>\n",
       "      <th>키_Tall</th>\n",
       "      <th>체격_L</th>\n",
       "      <th>체격_M</th>\n",
       "      <th>체격_S</th>\n",
       "      <th>체격_XS</th>\n",
       "      <th>거주지역_남구</th>\n",
       "      <th>거주지역_동구</th>\n",
       "      <th>거주지역_북구</th>\n",
       "      <th>거주지역_서구</th>\n",
       "    </tr>\n",
       "  </thead>\n",
       "  <tbody>\n",
       "    <tr>\n",
       "      <th>0</th>\n",
       "      <td>7.35</td>\n",
       "      <td>7.74</td>\n",
       "      <td>4.8</td>\n",
       "      <td>52.050</td>\n",
       "      <td>1499.4</td>\n",
       "      <td>False</td>\n",
       "      <td>True</td>\n",
       "      <td>True</td>\n",
       "      <td>False</td>\n",
       "      <td>False</td>\n",
       "      <td>False</td>\n",
       "      <td>False</td>\n",
       "      <td>True</td>\n",
       "      <td>False</td>\n",
       "      <td>False</td>\n",
       "    </tr>\n",
       "    <tr>\n",
       "      <th>1</th>\n",
       "      <td>7.05</td>\n",
       "      <td>8.10</td>\n",
       "      <td>1.2</td>\n",
       "      <td>51.300</td>\n",
       "      <td>1624.4</td>\n",
       "      <td>False</td>\n",
       "      <td>True</td>\n",
       "      <td>False</td>\n",
       "      <td>True</td>\n",
       "      <td>False</td>\n",
       "      <td>False</td>\n",
       "      <td>False</td>\n",
       "      <td>False</td>\n",
       "      <td>False</td>\n",
       "      <td>True</td>\n",
       "    </tr>\n",
       "    <tr>\n",
       "      <th>2</th>\n",
       "      <td>7.35</td>\n",
       "      <td>7.74</td>\n",
       "      <td>3.0</td>\n",
       "      <td>51.285</td>\n",
       "      <td>1499.4</td>\n",
       "      <td>False</td>\n",
       "      <td>True</td>\n",
       "      <td>True</td>\n",
       "      <td>False</td>\n",
       "      <td>False</td>\n",
       "      <td>False</td>\n",
       "      <td>False</td>\n",
       "      <td>True</td>\n",
       "      <td>False</td>\n",
       "      <td>False</td>\n",
       "    </tr>\n",
       "    <tr>\n",
       "      <th>3</th>\n",
       "      <td>8.58</td>\n",
       "      <td>6.66</td>\n",
       "      <td>4.8</td>\n",
       "      <td>25.545</td>\n",
       "      <td>1249.5</td>\n",
       "      <td>True</td>\n",
       "      <td>False</td>\n",
       "      <td>False</td>\n",
       "      <td>False</td>\n",
       "      <td>False</td>\n",
       "      <td>True</td>\n",
       "      <td>False</td>\n",
       "      <td>False</td>\n",
       "      <td>False</td>\n",
       "      <td>True</td>\n",
       "    </tr>\n",
       "    <tr>\n",
       "      <th>4</th>\n",
       "      <td>7.05</td>\n",
       "      <td>8.10</td>\n",
       "      <td>4.8</td>\n",
       "      <td>54.150</td>\n",
       "      <td>1624.4</td>\n",
       "      <td>False</td>\n",
       "      <td>True</td>\n",
       "      <td>False</td>\n",
       "      <td>True</td>\n",
       "      <td>False</td>\n",
       "      <td>False</td>\n",
       "      <td>False</td>\n",
       "      <td>False</td>\n",
       "      <td>False</td>\n",
       "      <td>True</td>\n",
       "    </tr>\n",
       "    <tr>\n",
       "      <th>...</th>\n",
       "      <td>...</td>\n",
       "      <td>...</td>\n",
       "      <td>...</td>\n",
       "      <td>...</td>\n",
       "      <td>...</td>\n",
       "      <td>...</td>\n",
       "      <td>...</td>\n",
       "      <td>...</td>\n",
       "      <td>...</td>\n",
       "      <td>...</td>\n",
       "      <td>...</td>\n",
       "      <td>...</td>\n",
       "      <td>...</td>\n",
       "      <td>...</td>\n",
       "      <td>...</td>\n",
       "    </tr>\n",
       "    <tr>\n",
       "      <th>525</th>\n",
       "      <td>10.11</td>\n",
       "      <td>5.58</td>\n",
       "      <td>4.8</td>\n",
       "      <td>25.185</td>\n",
       "      <td>1874.3</td>\n",
       "      <td>True</td>\n",
       "      <td>False</td>\n",
       "      <td>False</td>\n",
       "      <td>False</td>\n",
       "      <td>False</td>\n",
       "      <td>True</td>\n",
       "      <td>False</td>\n",
       "      <td>True</td>\n",
       "      <td>False</td>\n",
       "      <td>False</td>\n",
       "    </tr>\n",
       "    <tr>\n",
       "      <th>526</th>\n",
       "      <td>8.27</td>\n",
       "      <td>6.84</td>\n",
       "      <td>1.2</td>\n",
       "      <td>51.165</td>\n",
       "      <td>2124.2</td>\n",
       "      <td>False</td>\n",
       "      <td>True</td>\n",
       "      <td>False</td>\n",
       "      <td>True</td>\n",
       "      <td>False</td>\n",
       "      <td>False</td>\n",
       "      <td>False</td>\n",
       "      <td>True</td>\n",
       "      <td>False</td>\n",
       "      <td>False</td>\n",
       "    </tr>\n",
       "    <tr>\n",
       "      <th>527</th>\n",
       "      <td>7.35</td>\n",
       "      <td>7.74</td>\n",
       "      <td>1.2</td>\n",
       "      <td>40.995</td>\n",
       "      <td>1499.4</td>\n",
       "      <td>False</td>\n",
       "      <td>True</td>\n",
       "      <td>True</td>\n",
       "      <td>False</td>\n",
       "      <td>False</td>\n",
       "      <td>False</td>\n",
       "      <td>False</td>\n",
       "      <td>True</td>\n",
       "      <td>False</td>\n",
       "      <td>False</td>\n",
       "    </tr>\n",
       "    <tr>\n",
       "      <th>528</th>\n",
       "      <td>10.11</td>\n",
       "      <td>5.58</td>\n",
       "      <td>0.0</td>\n",
       "      <td>18.330</td>\n",
       "      <td>1874.3</td>\n",
       "      <td>True</td>\n",
       "      <td>False</td>\n",
       "      <td>False</td>\n",
       "      <td>False</td>\n",
       "      <td>False</td>\n",
       "      <td>True</td>\n",
       "      <td>False</td>\n",
       "      <td>True</td>\n",
       "      <td>False</td>\n",
       "      <td>False</td>\n",
       "    </tr>\n",
       "    <tr>\n",
       "      <th>529</th>\n",
       "      <td>6.44</td>\n",
       "      <td>8.82</td>\n",
       "      <td>3.0</td>\n",
       "      <td>44.535</td>\n",
       "      <td>1499.4</td>\n",
       "      <td>False</td>\n",
       "      <td>True</td>\n",
       "      <td>False</td>\n",
       "      <td>False</td>\n",
       "      <td>True</td>\n",
       "      <td>False</td>\n",
       "      <td>False</td>\n",
       "      <td>True</td>\n",
       "      <td>False</td>\n",
       "      <td>False</td>\n",
       "    </tr>\n",
       "  </tbody>\n",
       "</table>\n",
       "<p>530 rows × 15 columns</p>\n",
       "</div>"
      ],
      "text/plain": [
       "     일평균수면시간  일평균학습시간  일평균스마트폰사용시간     몸무게   기초대사량  키_Short  키_Tall   체격_L  \\\n",
       "0       7.35     7.74          4.8  52.050  1499.4    False    True   True   \n",
       "1       7.05     8.10          1.2  51.300  1624.4    False    True  False   \n",
       "2       7.35     7.74          3.0  51.285  1499.4    False    True   True   \n",
       "3       8.58     6.66          4.8  25.545  1249.5     True   False  False   \n",
       "4       7.05     8.10          4.8  54.150  1624.4    False    True  False   \n",
       "..       ...      ...          ...     ...     ...      ...     ...    ...   \n",
       "525    10.11     5.58          4.8  25.185  1874.3     True   False  False   \n",
       "526     8.27     6.84          1.2  51.165  2124.2    False    True  False   \n",
       "527     7.35     7.74          1.2  40.995  1499.4    False    True   True   \n",
       "528    10.11     5.58          0.0  18.330  1874.3     True   False  False   \n",
       "529     6.44     8.82          3.0  44.535  1499.4    False    True  False   \n",
       "\n",
       "      체격_M   체격_S  체격_XS  거주지역_남구  거주지역_동구  거주지역_북구  거주지역_서구  \n",
       "0    False  False  False    False     True    False    False  \n",
       "1     True  False  False    False    False    False     True  \n",
       "2    False  False  False    False     True    False    False  \n",
       "3    False  False   True    False    False    False     True  \n",
       "4     True  False  False    False    False    False     True  \n",
       "..     ...    ...    ...      ...      ...      ...      ...  \n",
       "525  False  False   True    False     True    False    False  \n",
       "526   True  False  False    False     True    False    False  \n",
       "527  False  False  False    False     True    False    False  \n",
       "528  False  False   True    False     True    False    False  \n",
       "529  False   True  False    False     True    False    False  \n",
       "\n",
       "[530 rows x 15 columns]"
      ]
     },
     "execution_count": 16,
     "metadata": {},
     "output_type": "execute_result"
    }
   ],
   "source": [
    "copy = pd.get_dummies(train)\n",
    "copy"
   ]
  },
  {
   "cell_type": "markdown",
   "id": "ca0ac0fa-41b7-4ebb-a29d-1c02690f73d8",
   "metadata": {},
   "source": [
    "# **데이터 인코딩**\n",
    "## **pd.get_dummies()**"
   ]
  },
  {
   "cell_type": "code",
   "execution_count": 18,
   "id": "215481aa-bd0f-41cd-bc57-c6e229d68a0c",
   "metadata": {},
   "outputs": [
    {
     "name": "stdout",
     "output_type": "stream",
     "text": [
      "(230, 8) (230, 8)\n",
      "(230, 15) (230, 15)\n"
     ]
    }
   ],
   "source": [
    "# 학습용/테스트용 데이터의 인코딩 진행\n",
    "print(test.shape, test.shape)\n",
    "\n",
    "train = pd.get_dummies(train) \n",
    "test = pd.get_dummies(test)\n",
    "\n",
    "print(test.shape, test.shape)"
   ]
  },
  {
   "cell_type": "markdown",
   "id": "92e39e7b-9c28-4cb6-b2fc-f262620c04b7",
   "metadata": {},
   "source": [
    "# **from sklearn.model_selection import train_test_split**\n",
    "\n",
    "### **train_x, validation_x, train_y, validation_y**"
   ]
  },
  {
   "cell_type": "code",
   "execution_count": 21,
   "id": "2ba14254-3c20-4ba9-a4e2-ce0f647bee3d",
   "metadata": {},
   "outputs": [
    {
     "name": "stdout",
     "output_type": "stream",
     "text": [
      "(371, 15) (159, 15) (371,) (159,)\n"
     ]
    }
   ],
   "source": [
    "# 학습용 데이터를 이용한 검증용(validation) 데이터 생성(분할)\n",
    "from sklearn.model_selection import train_test_split\n",
    "\n",
    "train_x, validation_x, train_y, validation_y = train_test_split(train, target, \n",
    "                                                                test_size=0.3, random_state=0)\n",
    "\n",
    "print(train_x.shape, validation_x.shape, train_y.shape, validation_y.shape)"
   ]
  },
  {
   "cell_type": "markdown",
   "id": "06313686-802a-4008-bcf7-432f07b3ddcc",
   "metadata": {},
   "source": [
    "# **from sklearn.ensemble import RandomForestClassifier**\n",
    "# **from sklearn.metrics import f1_score**"
   ]
  },
  {
   "cell_type": "code",
   "execution_count": 23,
   "id": "2847ccee-8a62-4f2c-b750-4a8bb117a737",
   "metadata": {},
   "outputs": [
    {
     "data": {
      "text/plain": [
       "0.9388573021181716"
      ]
     },
     "execution_count": 23,
     "metadata": {},
     "output_type": "execute_result"
    }
   ],
   "source": [
    "# 분류 모델 생성\n",
    "from sklearn.ensemble import RandomForestClassifier\n",
    "from sklearn.metrics import f1_score\n",
    "\n",
    "rfc = RandomForestClassifier(random_state=0)\n",
    "rfc.fit(train_x, train_y)\n",
    "prediction_val = rfc.predict(validation_x)\n",
    "\n",
    "f1_score(validation_y, prediction_val, average='macro')"
   ]
  },
  {
   "cell_type": "markdown",
   "id": "36fa458c-caa1-4469-a510-529bf7b3f90a",
   "metadata": {},
   "source": [
    "### **클래스는 타겟 변수(y)가 가질 수 있는 값(범주 또는 레이블)을 의미한다.**\n",
    "### **분류 문제에서 타켓 변수(y)의 범주 값을 나타낸다**"
   ]
  },
  {
   "cell_type": "markdown",
   "id": "1d0362a5-b4c1-4ff7-af6d-a6558041a786",
   "metadata": {},
   "source": [
    "# average = 'macro' \n",
    "- 클래스의 데이터 비율에 관계없이 각 클래스의 성능이 동일하게 반영 \n",
    "- 모든 클래스의 중요도가 동일\n",
    "\n",
    "# average = 'micro' \n",
    "- 모든 클래스의 개별 계산을 무시하고, 전체 참/거짓의 총합을 기준으로 성능 계산\n",
    "- 클래스 간 데이터 비율(크기) 차이가 클 때 적합 \n",
    "\n",
    "# average = 'weighted'\n",
    "- 각 클래스의 데이터 비율에 따라 가중 평균 계산\n",
    "- 클래스 간 데이터 크기가 다를 때 유용\n",
    "\n",
    "# average = 'samples'\n",
    "- 다중 레이블 문제에서 각 샘플에 대해 개별적으로 매트릭을 계산하고, 그 평균을 반환"
   ]
  },
  {
   "cell_type": "code",
   "execution_count": 25,
   "id": "6cfa7867-113b-4c81-8cf1-4623ee83fe6c",
   "metadata": {},
   "outputs": [
    {
     "name": "stdout",
     "output_type": "stream",
     "text": [
      "     pred\n",
      "0    고등학생\n",
      "1    초등학생\n",
      "2     중학생\n",
      "3    유치원생\n",
      "4    고등학생\n",
      "..    ...\n",
      "225  초등학생\n",
      "226  초등학생\n",
      "227  고등학생\n",
      "228  고등학생\n",
      "229  초등학생\n",
      "\n",
      "[230 rows x 1 columns]\n"
     ]
    }
   ],
   "source": [
    "# 테스트 데이터로 예측, 결과 파일 생성\n",
    "prediction_test = rfc.predict(test)\n",
    "\n",
    "result = pd.DataFrame({'pred':prediction_test})\n",
    "print(result)\n",
    "\n",
    "result.to_csv('result.csv', index=False)"
   ]
  },
  {
   "cell_type": "code",
   "execution_count": null,
   "id": "512626e2-67ba-46f6-99b5-e70f02d93396",
   "metadata": {},
   "outputs": [],
   "source": []
  }
 ],
 "metadata": {
  "kernelspec": {
   "display_name": "Python 3 (ipykernel)",
   "language": "python",
   "name": "python3"
  },
  "language_info": {
   "codemirror_mode": {
    "name": "ipython",
    "version": 3
   },
   "file_extension": ".py",
   "mimetype": "text/x-python",
   "name": "python",
   "nbconvert_exporter": "python",
   "pygments_lexer": "ipython3",
   "version": "3.11.7"
  }
 },
 "nbformat": 4,
 "nbformat_minor": 5
}
