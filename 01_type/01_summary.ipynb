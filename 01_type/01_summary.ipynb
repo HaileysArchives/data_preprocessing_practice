{
 "cells": [
  {
   "cell_type": "code",
   "execution_count": null,
   "id": "f993c124-43e5-4c6c-9c7b-f98ea6183606",
   "metadata": {},
   "outputs": [],
   "source": [
    "total = df.groupby('item_name').sum()\n",
    "\n",
    "df['item_price'] = df['item_price'].str.replace('$', '')\n",
    "df['item_price'] = df['item_price'].astype(float)"
   ]
  },
  {
   "cell_type": "markdown",
   "id": "835e4737-4bef-4e0f-8b58-6e74cd159e27",
   "metadata": {},
   "source": [
    "# **.str.replace().astype()**"
   ]
  },
  {
   "cell_type": "code",
   "execution_count": null,
   "id": "6431d86c-c3b4-4776-8570-9865377a867d",
   "metadata": {},
   "outputs": [],
   "source": [
    "# lambda function\n",
    "change_type = lambda x: x[1:-1]\n",
    "change_type_price = df['item_price'].apply(change_type)"
   ]
  },
  {
   "cell_type": "markdown",
   "id": "8a7377fe-6964-4c91-aae7-3719b302201b",
   "metadata": {},
   "source": [
    "# **lambda x: x[1:-1]**\n",
    "### **df.groupby('A')['B'].apply(lambda x: x.sum())**\n",
    "# **apply()**"
   ]
  },
  {
   "cell_type": "code",
   "execution_count": null,
   "id": "74113314-1898-42cb-bc40-f4eb8cdeb73c",
   "metadata": {},
   "outputs": [],
   "source": [
    "df.shape"
   ]
  },
  {
   "cell_type": "markdown",
   "id": "1c1eee70-90b0-4a38-8e77-a3233d3f29c0",
   "metadata": {},
   "source": [
    "# **중복된 행 제거 drop_duplicates([])**"
   ]
  },
  {
   "cell_type": "code",
   "execution_count": null,
   "id": "4dc992a0-8813-49aa-8517-f8a1f60d4f64",
   "metadata": {},
   "outputs": [],
   "source": [
    "df_filtered = df.drop_duplicates(['item_name', 'quantity', 'choice_description'])\n",
    "\n",
    "# Select rows with quantity == 1\n",
    "df_one_product = df_filtered[df_filtered['quantity'] == 1]\n",
    "\n",
    "# Count unique products costing more than $10\n",
    "num_expensive_products = df_one_product[df_one_product['item_price'] > 10]['item_name'].nunique()\n",
    "print(num_expensive_products)\n"
   ]
  },
  {
   "cell_type": "markdown",
   "id": "ae17d80e-0f01-425a-8039-a6a7636c46f1",
   "metadata": {},
   "source": [
    "# **drop(columns=[])**"
   ]
  },
  {
   "cell_type": "code",
   "execution_count": 1,
   "id": "7d93268a-bd91-424a-94a6-eabea43f4616",
   "metadata": {},
   "outputs": [
    {
     "ename": "NameError",
     "evalue": "name 'per_price' is not defined",
     "output_type": "error",
     "traceback": [
      "\u001b[1;31m---------------------------------------------------------------------------\u001b[0m",
      "\u001b[1;31mNameError\u001b[0m                                 Traceback (most recent call last)",
      "Cell \u001b[1;32mIn[1], line 1\u001b[0m\n\u001b[1;32m----> 1\u001b[0m per_price \u001b[38;5;241m=\u001b[39m per_price\u001b[38;5;241m.\u001b[39mdrop(columns \u001b[38;5;241m=\u001b[39m [\u001b[38;5;124m'\u001b[39m\u001b[38;5;124morder_id\u001b[39m\u001b[38;5;124m'\u001b[39m, \u001b[38;5;124m'\u001b[39m\u001b[38;5;124mquantity\u001b[39m\u001b[38;5;124m'\u001b[39m])\n\u001b[0;32m      3\u001b[0m per_price\u001b[38;5;241m.\u001b[39msort_values(by\u001b[38;5;241m=\u001b[39m\u001b[38;5;124m'\u001b[39m\u001b[38;5;124mitem_price\u001b[39m\u001b[38;5;124m'\u001b[39m, ascending\u001b[38;5;241m=\u001b[39m\u001b[38;5;28;01mFalse\u001b[39;00m)\n",
      "\u001b[1;31mNameError\u001b[0m: name 'per_price' is not defined"
     ]
    }
   ],
   "source": [
    "per_price = per_price.drop(columns = ['order_id', 'quantity'])\n",
    "\n",
    "per_price.sort_values(by='item_price', ascending=False)"
   ]
  },
  {
   "cell_type": "markdown",
   "id": "7d5b9f0c-b9d1-4ad7-af6d-d766e790ef4d",
   "metadata": {},
   "source": [
    "# **set_index()**"
   ]
  },
  {
   "cell_type": "markdown",
   "id": "816d08f2-4fdb-4698-9ceb-a31c9415aff7",
   "metadata": {},
   "source": [
    "# 기존 데이터프레임 직접 수정 inplace=True\n",
    "df.set_index('origin', inplace=True) "
   ]
  },
  {
   "cell_type": "markdown",
   "id": "eccb0f66-968e-49c7-8ab0-dff014be326d",
   "metadata": {},
   "source": [
    "# **isin()**"
   ]
  },
  {
   "cell_type": "code",
   "execution_count": null,
   "id": "58d27d91-531d-4273-a344-f4553762c555",
   "metadata": {},
   "outputs": [],
   "source": [
    "# Select the 'deaths', 'size' and 'deseters' columns from Maine and Alaska\n",
    "df.loc[df['origin'].isin(['Maine', 'Alaska']), []]"
   ]
  },
  {
   "cell_type": "code",
   "execution_count": null,
   "id": "12d62768-e264-40a1-8361-036db7631445",
   "metadata": {},
   "outputs": [],
   "source": [
    "# Select rows where df.deahs is greater than 500 or less than 50\n",
    "df.loc[(df['deaths'] > 500) | (df['deaths'] < 50), :]"
   ]
  },
  {
   "cell_type": "markdown",
   "id": "ecd9ffd7-13ef-4881-b6a0-c893d9d8040a",
   "metadata": {},
   "source": [
    "# **str.startswith()**"
   ]
  },
  {
   "cell_type": "code",
   "execution_count": null,
   "id": "ed1146bd-b0f7-42c9-a974-e3466aedd73c",
   "metadata": {},
   "outputs": [],
   "source": [
    "# Select the teams that start with G\n",
    "G_country = df[df['Team'].str.startswith('G')]\n",
    "G_country"
   ]
  },
  {
   "cell_type": "markdown",
   "id": "43528648-b081-4d92-b056-4bfc49f16b37",
   "metadata": {},
   "source": [
    "# **.agg(['mean', 'min', 'max])**"
   ]
  },
  {
   "cell_type": "code",
   "execution_count": null,
   "id": "c271ff41-a007-458c-934f-b77919596e69",
   "metadata": {},
   "outputs": [],
   "source": [
    "# Print the mean, min and max values for spirit consumption.\n",
    "df.groupby('continent')['spirit_servings'].agg(['max', 'min', 'mean'])"
   ]
  },
  {
   "cell_type": "code",
   "execution_count": null,
   "id": "25a1a15e-10fc-4d9b-baf3-e8eb0765b277",
   "metadata": {},
   "outputs": [],
   "source": [
    "# Discover what is the mean age per occupation\n",
    "age_per = df.groupby('occupation')['age'].mean()\n",
    "age_per"
   ]
  },
  {
   "cell_type": "markdown",
   "id": "e230486e-392f-4c36-a03e-b8098c0b3da5",
   "metadata": {},
   "source": [
    "# **map(): 특정 값에 대해 1:1 매핑을 제공하여 데이터를 변환**"
   ]
  },
  {
   "cell_type": "code",
   "execution_count": null,
   "id": "d0d30f43-0960-42eb-8b93-2e297a8c30b9",
   "metadata": {},
   "outputs": [],
   "source": [
    "# Discover the Male ratio per occupation and sort it from the most to the least\n",
    "df['gender_to_number'] = df['gender'].map({'M':1, 'F':0})\n",
    "\n",
    "male = df.groupby('occupation')['gender_to_number'].sum() / df['occupation'].value_counts() * 100\n",
    "male.sort_values(ascending=False)"
   ]
  },
  {
   "cell_type": "markdown",
   "id": "df662acd-776c-4fad-8f50-f2962d271bf6",
   "metadata": {},
   "source": [
    "# **pd.DataFrame({'occupation':male_raito.index, 'male':male_ratio, 'female':female_ratio)**"
   ]
  },
  {
   "cell_type": "code",
   "execution_count": null,
   "id": "3c9f8d23-655d-423b-a878-d85006ba411d",
   "metadata": {},
   "outputs": [],
   "source": [
    "# For each occupation present the percentage of women and men (Ratio!!!)\n",
    "\n",
    "male_count = df[df['gender_to_number'] == 1].groupby('occupation')['gender_to_number'].sum()\n",
    "female_count = df[df['gender_to_number'] == 0].groupby('occupation')['gender_to_number'].sum()\n",
    "\n",
    "total_count = df.groupby('occupation').size()\n",
    "\n",
    "male_ratio = (male_count / total_count) * 100\n",
    "female_ratio = (female_count / total_count) * 100\n",
    "\n",
    "result = pd.DataFrame({'occupation': male_ratio.index, \n",
    "                      'male': male_ratio,\n",
    "                      'female':female_ratio})\n",
    "result"
   ]
  },
  {
   "cell_type": "markdown",
   "id": "d834c955-ec51-4364-b7dc-42d45840a80c",
   "metadata": {},
   "source": [
    "# **unstack(): 계층적 데이터를 평면 구조로 변환**"
   ]
  },
  {
   "cell_type": "code",
   "execution_count": null,
   "id": "eba543b5-e1a7-48ee-9140-ca6ba8dd475c",
   "metadata": {},
   "outputs": [],
   "source": [
    "# Present the mean preTestScore grouped by regiment and company without heirarchical indexing\n",
    "\n",
    "df.groupby(['regiment', 'company'])['preTestScore'].mean().unstack()"
   ]
  },
  {
   "cell_type": "markdown",
   "id": "0eb9e830-d0b8-4b3e-8c05-701adf3279cb",
   "metadata": {},
   "source": [
    "# **size() vs value_counts()**\n",
    "- values_counts(): 고유값 별 개수 세기 => 결측치(NaN) 제외하고 계산\n",
    "- size(): 데이터의 전체 크기(개수) 반환 => 결측치(NaN) 제외하지 않음"
   ]
  },
  {
   "cell_type": "code",
   "execution_count": null,
   "id": "6fbc757f-42a6-4993-a28d-f387585d277b",
   "metadata": {},
   "outputs": [],
   "source": [
    "# What is the number of the observations in each regiment and company\n",
    "# 각 연대 및 중대별 관측 횟수는 얼마입니까?\n",
    "\n",
    "regiment_counts = df.groupby('regiment').size() # 데이터별 관측치 수 구하기 size()\n",
    "company_counts = df.groupby('company').size()\n",
    "\n",
    "print(regiment_counts)\n",
    "print()\n",
    "print(company_counts)\n",
    "\n",
    "print(df.groupby('regiment').value_counts())\n",
    "\n",
    "# 한 번에 그룹화\n",
    "grouped_counts = df.groupby(['regiment', 'company']).size()\n",
    "print(grouped_counts)"
   ]
  },
  {
   "cell_type": "markdown",
   "id": "a904e7d9-225b-4d68-b9a3-e196e873cb62",
   "metadata": {},
   "source": [
    "# **pd.to_datetime(df['Year'], format='%Y')**"
   ]
  },
  {
   "cell_type": "code",
   "execution_count": null,
   "id": "16b4d9e7-2f70-49cf-b1de-45661328d30c",
   "metadata": {},
   "outputs": [],
   "source": [
    "# Convert the type of the column Year to datetime64\n",
    "df['Year'] = pd.to_datetime(df['Year'], format = '%Y')\n",
    "df['Year'].head()"
   ]
  },
  {
   "cell_type": "markdown",
   "id": "9b8d959f-9521-4277-88ac-d0b868aa1258",
   "metadata": {},
   "source": [
    "# **resample(): 시간 간격을 기준으로 데이터를 다시 샘플링**\n",
    "## **'10AS'의 의미**\n",
    "- 10년 단위로 재샘플링\n",
    "- 10년 단위를 의미하며, S는 시작 연도를 기준으로 그룹화\n",
    "\n",
    "### **10A: 10년 단위 + S: 시작(Starting point)**\n"
   ]
  },
  {
   "cell_type": "code",
   "execution_count": null,
   "id": "03594faa-dfa8-4d04-98f0-94bd729e851a",
   "metadata": {},
   "outputs": [],
   "source": [
    "# Group the year by decades and sum the values\n",
    "# 연도를 수십 년 단위로 그룹화하고 값을 합산합니다.\n",
    "\n",
    "df = df.resample('10AS').sum()\n",
    "\n",
    "population = df['Population'].resample('10AS').max()\n",
    "\n",
    "df['Population'] = population\n",
    "df.head()"
   ]
  },
  {
   "cell_type": "code",
   "execution_count": null,
   "id": "b55916a1-d708-4230-b237-af9faa230db4",
   "metadata": {},
   "outputs": [],
   "source": [
    "df['Decade'] = (df.index.year // 10) * 10\n",
    "# year는 항상 소문자로 작성해야 합니다. 이는 Pandas가 제공하는 DatetimeIndex 속성이기 때문\n",
    "\n",
    "df = df.groupby('Decade').agg({\n",
    "    'Population': 'max',  # Population은 최댓값 사용\n",
    "    'Violent': 'sum',     # 나머지는 합계\n",
    "    'Property': 'sum',\n",
    "    'Murder': 'sum',\n",
    "    'Forcible_Rape': 'sum',\n",
    "    'Robbery': 'sum',\n",
    "    'Aggravated_assault': 'sum',\n",
    "    'Burglary': 'sum',\n",
    "    'Larceny_Theft': 'sum',\n",
    "    'Vehicle_Theft': 'sum'\n",
    "})\n"
   ]
  },
  {
   "cell_type": "markdown",
   "id": "b4c6a7a3-f0ef-4b86-b8bb-cb6f8b3be08b",
   "metadata": {},
   "source": [
    "# **idxmax()**"
   ]
  },
  {
   "cell_type": "code",
   "execution_count": null,
   "id": "f28409f6-6ae4-4c7c-87e7-9a2e774800d4",
   "metadata": {},
   "outputs": [],
   "source": [
    "# What is the most dangerous decade to live in the US?\n",
    "most = df.idxmax()\n",
    "most"
   ]
  },
  {
   "cell_type": "markdown",
   "id": "0c4a797d-7e85-423c-b0f3-5bb1178f3bc0",
   "metadata": {},
   "source": [
    "# **merge(): 공통 열 또는 인덱스를 기준으로 결합**"
   ]
  },
  {
   "cell_type": "code",
   "execution_count": null,
   "id": "6a109751-0c88-4858-883d-b84fd199af27",
   "metadata": {},
   "outputs": [],
   "source": [
    "# Merge all_data and data3 along the subject_id value\n",
    "# subject_id 값을 따라 all_data와 data3를 병합\n",
    "\n",
    "pd.merge(all_data, df3, on = 'subject_id')\n",
    "\n",
    "data = pd.merge(df1, df2, on='subject_id', how = 'inner')\n",
    "\n",
    "data_all = pd.merge(df1, df2, on = 'subject_id', how = 'outer')"
   ]
  },
  {
   "cell_type": "markdown",
   "id": "ee531799-5130-4823-a090-f624bc48ca63",
   "metadata": {},
   "source": [
    "# **apply() vs agg()의 차이**\n",
    "- apply(): 단일 함수를 데이터의 각 행, 열 또는 그룹에 적용 (커스텀 함수를 적용할 때 유용)\n",
    "## grouped = df.groupby('A')['B'].apply(lambda x: x.sum())\n",
    "- agg(): 데이터의 집계(aggregation)를 수행할 때 사용 (하나의 열에 여러 함수를 동시 적용)\n",
    "## grouped = df.groupby('A')['B'].agg(['sum', 'mean'])"
   ]
  },
  {
   "cell_type": "markdown",
   "id": "2ad34f66-0a30-42fa-83d7-3f6360777ea6",
   "metadata": {},
   "source": [
    "# **apply() vs applymap()의 차이**\n",
    "- \n",
    "apply(): 데이터프레임의 열 또는 행에 대해 를 적용\n",
    "- 용\n",
    "applymap(): 데이터프레임의 모든 개별 요소에 대해 함수를 적용"
   ]
  },
  {
   "cell_type": "code",
   "execution_count": null,
   "id": "a374e353-64f1-4378-8553-7425a76d152b",
   "metadata": {},
   "outputs": [],
   "source": [
    "df.applymap(mul10).head()"
   ]
  },
  {
   "cell_type": "markdown",
   "id": "864888c0-74ad-4213-bd15-480f5898bfd2",
   "metadata": {},
   "source": [
    "# **np.random.randint(start, high=1000, size=100, dtype='l')**"
   ]
  },
  {
   "cell_type": "code",
   "execution_count": null,
   "id": "d6f69d0a-1742-4486-8262-1c4d5e87b6b9",
   "metadata": {},
   "outputs": [],
   "source": [
    "cars['owner'] = np.random.randint(15000, high=73000, size=398, dtype='l')\n",
    "cars['owner']"
   ]
  },
  {
   "cell_type": "code",
   "execution_count": null,
   "id": "d79521ce-4433-475d-9cbd-84333d8e9557",
   "metadata": {},
   "outputs": [],
   "source": [
    "df1 = pd.Series(np.random.randint(1, high=4, size=100, dtype='l'))\n",
    "df2 = pd.Series(np.random.randint(1, high=3, size=100, dtype='l'))\n",
    "df3 = pd.Series(np.random.randint(10000, high=30001, size=100, dtype='l')) "
   ]
  },
  {
   "cell_type": "markdown",
   "id": "584a9be3-80a4-4f97-8445-c0ba78a8f032",
   "metadata": {},
   "source": [
    "# **pd.concat(): axis로 수평 결합(axis=1) 또는 수직 결합(axis=0) 모두 가능**"
   ]
  },
  {
   "cell_type": "markdown",
   "id": "6ae706fb-9fab-4f3f-b6b5-27b86025dd9b",
   "metadata": {},
   "source": [
    "# **reset_index() vs set_index()의 차이**\n",
    "- **reset_index()**: 현재의 인덱스를 데이터프레임의 열로 변환하고, 인덱스 초기화\n",
    "- > **df.reset_index(drop=False, inplace=False)**\n",
    "  > - drop=False: 기존 인덱스를 열로 남길지 여부 (True로 설정하면 인덱스 삭제)\n",
    "  > - inplace=True: 원본 데이터프레임을 직접 변경.\n",
    "- **set_index()**: 데이터프레임의 특정 열을 새로운 인덱스로 설정\n",
    "- > **df.set_index(keys, drop=True, inplace=False)**\n",
    "  > - keys: 인덱스로 사용할 열 이름\n",
    "  > - drop=True: 지정한 열을 데이터프레임에서 삭제할지 여부\n",
    "  > - inplace=True: 원본 데이터프레임을 직접 변경"
   ]
  },
  {
   "cell_type": "markdown",
   "id": "08a9b45c-796a-4871-a907-558b96621b1f",
   "metadata": {},
   "source": [
    "# **to_frame() 메서드**"
   ]
  },
  {
   "cell_type": "code",
   "execution_count": null,
   "id": "2f182537-8425-4980-aa19-5b82552ea456",
   "metadata": {},
   "outputs": [],
   "source": [
    "bigcolumn = bigcolumn.to_frame()\n",
    "print(type(bigcolumn))\n",
    "\n",
    "bigcolumn"
   ]
  },
  {
   "cell_type": "markdown",
   "id": "d0b2107a-25fd-4ccc-874e-58777752858d",
   "metadata": {},
   "source": [
    "# **drop = True**\n",
    "### - 기존 인덱스를 **완전히 제거**하고 새로운 기본 숫자형 인덱스 생성\n",
    "# **drop = False(기본값)**\n",
    "### - 기존 인덱스를 데이터프레임의 열로 변환한 뒤, 새로운 숫자형 인덱스 생성"
   ]
  },
  {
   "cell_type": "markdown",
   "id": "aec08c18-ea85-4e73-a4b1-1a5f65dcf734",
   "metadata": {},
   "source": [
    "# **특정 컬럼을 선택해도 데이터프레임 형태로 유지하려면 이중 대괄호[['ColumnName']]을 사용해라.**"
   ]
  },
  {
   "cell_type": "code",
   "execution_count": null,
   "id": "a17d00bc-06f8-473a-bf02-8ddceae932e7",
   "metadata": {},
   "outputs": [],
   "source": [
    "# What is the median name occurence?\n",
    "median_names = names[names['Count'] == names['Count'].median()][['Count']]\n",
    "median_names\n",
    "\n",
    "# 특정 컬럼을 선택해도 데이터프레임 형태로 유지하려면 이중 대괄호[['ColumnName']]을 사용해라. "
   ]
  },
  {
   "cell_type": "markdown",
   "id": "c3d8adbe-5ef8-4635-afc0-8ec58337eb73",
   "metadata": {},
   "source": [
    "# **.plot(kind='bar')**"
   ]
  },
  {
   "cell_type": "code",
   "execution_count": null,
   "id": "abe7e374-3e2d-4d3e-8b9f-d122636b981f",
   "metadata": {},
   "outputs": [],
   "source": [
    "top_5.plot(kind='bar')\n",
    "\n",
    "plt.xlabel('items')\n",
    "plt.ylabel('Number of Times Ordered')\n",
    "plt.title('Most Ordered Chipole\\'s Items')\n",
    "\n",
    "plt.show()"
   ]
  },
  {
   "cell_type": "markdown",
   "id": "4d911b96-dc82-41f5-ae2b-34fdc04f0e0c",
   "metadata": {},
   "source": [
    "# **plt.scatter(x, y, s(size), c(color))**"
   ]
  },
  {
   "cell_type": "code",
   "execution_count": null,
   "id": "cb4a1428-e5a8-461f-8045-be984bad59cc",
   "metadata": {},
   "outputs": [],
   "source": [
    "# Create a scatterplot with the number of items ordered per order price\n",
    "# 주문 가격당 주문한 품목 수로 분산형 차트를 만듭니다.\n",
    "\n",
    "# 가격과 수량을 그룹화하여 합계 계산\n",
    "prices = df.groupby('order_id').sum()\n",
    "\n",
    "# Scatter plot 그리기: x축은 'item_price', y축은 'quantity'\n",
    "plt.scatter(x=prices['item_price'], y=prices['quantity'], s=50, c='green')\n",
    "\n",
    "# 레이블과 제목 설정\n",
    "plt.xlabel('Order Price')\n",
    "plt.ylabel('Items ordered')\n",
    "plt.title('Number of items ordered per order price')\n",
    "\n",
    "plt.show()\n"
   ]
  },
  {
   "cell_type": "code",
   "execution_count": null,
   "id": "c42be8c7-c932-445b-b29a-b402a64528fb",
   "metadata": {},
   "outputs": [],
   "source": [
    "# Add another column called place, and insert what you have in mind.\n",
    "df['place'] = ['park','street','lake','forest']\n",
    "\n",
    "df.head()"
   ]
  },
  {
   "cell_type": "markdown",
   "id": "52760d19-8277-4247-a4ae-1595e90c5af0",
   "metadata": {},
   "source": [
    "# **resample()**\n",
    "### **시간 축 기반 데이터(DatetimeIndex)를 특정 간격으로 그룹화하여 집계하거나 변환할 때 사용**"
   ]
  },
  {
   "cell_type": "code",
   "execution_count": null,
   "id": "04a45507-15ac-4c47-8406-ba602b49eb22",
   "metadata": {},
   "outputs": [],
   "source": [
    "# Get the last business day of each month\n",
    "df_month = df.resample('BM').mean() # business month end\n",
    "df_month.head()"
   ]
  },
  {
   "cell_type": "code",
   "execution_count": null,
   "id": "03959088-c8a3-4f46-95ab-3f8c11f7884b",
   "metadata": {},
   "outputs": [],
   "source": [
    "# now we have the montly data. Now change the frequency to year.\n",
    "year = monthly.resample('AS-JAN').sum() # AS(Annual Start)\n",
    "year"
   ]
  },
  {
   "cell_type": "markdown",
   "id": "59972323-337c-48f9-a7c3-10720f036549",
   "metadata": {},
   "source": [
    "# **.dropna(): 결측치 제거**\n",
    "# **.fillna(): 결측값을 특정 값으로 대체**"
   ]
  },
  {
   "cell_type": "code",
   "execution_count": null,
   "id": "8a7ae03b-1ea7-4e67-ae19-21c15906c4b2",
   "metadata": {},
   "outputs": [],
   "source": [
    "monthly = monthly.dropna()\n",
    "monthly"
   ]
  }
 ],
 "metadata": {
  "kernelspec": {
   "display_name": "Python 3 (ipykernel)",
   "language": "python",
   "name": "python3"
  },
  "language_info": {
   "codemirror_mode": {
    "name": "ipython",
    "version": 3
   },
   "file_extension": ".py",
   "mimetype": "text/x-python",
   "name": "python",
   "nbconvert_exporter": "python",
   "pygments_lexer": "ipython3",
   "version": "3.11.7"
  }
 },
 "nbformat": 4,
 "nbformat_minor": 5
}
